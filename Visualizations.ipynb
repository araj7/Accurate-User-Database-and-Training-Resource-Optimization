{
 "cells": [
  {
   "cell_type": "code",
   "execution_count": 1,
   "metadata": {},
   "outputs": [],
   "source": [
    "## USER"
   ]
  },
  {
   "cell_type": "code",
   "execution_count": 13,
   "metadata": {},
   "outputs": [],
   "source": [
    "import pandas as pd\n",
    "import numpy as np\n",
    "import seaborn as sns\n",
    "import matplotlib.pyplot as plt\n",
    "from sagemaker import get_execution_role\n",
    "import sagemaker.amazon.common as smac"
   ]
  },
  {
   "cell_type": "code",
   "execution_count": 3,
   "metadata": {},
   "outputs": [
    {
     "name": "stderr",
     "output_type": "stream",
     "text": [
      "Couldn't call 'get_role' to get Role ARN from role name AmazonSageMaker-ExecutionRole-20210312T142701 to get Role path.\n",
      "Assuming role was created in SageMaker AWS console, as the name contains `AmazonSageMaker-ExecutionRole`. Defaulting to Role ARN with service-role in path. If this Role ARN is incorrect, please add IAM read permissions to your role or supply the Role Arn directly.\n"
     ]
    }
   ],
   "source": [
    "role = get_execution_role()\n",
    "bucket = 'dean690-dataset'\n",
    "data_key = 'table.Rating_all.0401.csv'\n",
    "data_path = 's3://{}/{}'.format(bucket, data_key)\n",
    "\n",
    "# read csv file\n",
    "rating_role = pd.read_csv(data_path, low_memory = False)\n",
    "rating_role=rating_role.drop(rating_role.columns[0], axis=1)\n",
    "rating_role=rating_role.sort_values(by='total_rating', ascending=False, ignore_index=True)"
   ]
  },
  {
   "cell_type": "markdown",
   "metadata": {},
   "source": [
    "# TOTAL SCORE FOR ALL USER"
   ]
  },
  {
   "cell_type": "code",
   "execution_count": 4,
   "metadata": {},
   "outputs": [
    {
     "name": "stderr",
     "output_type": "stream",
     "text": [
      "/opt/conda/lib/python3.7/site-packages/ipykernel_launcher.py:7: SettingWithCopyWarning: \n",
      "A value is trying to be set on a copy of a slice from a DataFrame\n",
      "\n",
      "See the caveats in the documentation: https://pandas.pydata.org/pandas-docs/stable/user_guide/indexing.html#returning-a-view-versus-a-copy\n",
      "  import sys\n"
     ]
    },
    {
     "data": {
      "text/html": [
       "<div>\n",
       "<style scoped>\n",
       "    .dataframe tbody tr th:only-of-type {\n",
       "        vertical-align: middle;\n",
       "    }\n",
       "\n",
       "    .dataframe tbody tr th {\n",
       "        vertical-align: top;\n",
       "    }\n",
       "\n",
       "    .dataframe thead th {\n",
       "        text-align: right;\n",
       "    }\n",
       "</style>\n",
       "<table border=\"1\" class=\"dataframe\">\n",
       "  <thead>\n",
       "    <tr style=\"text-align: right;\">\n",
       "      <th></th>\n",
       "      <th>user_order</th>\n",
       "      <th>user</th>\n",
       "      <th>disposals_rating</th>\n",
       "      <th>locations_rating</th>\n",
       "      <th>receiving_rating</th>\n",
       "      <th>total_rating</th>\n",
       "      <th>disposal_role</th>\n",
       "      <th>locations_role</th>\n",
       "      <th>receiving_role</th>\n",
       "    </tr>\n",
       "  </thead>\n",
       "  <tbody>\n",
       "    <tr>\n",
       "      <th>0</th>\n",
       "      <td>1</td>\n",
       "      <td>USER44</td>\n",
       "      <td>0.379776</td>\n",
       "      <td>0.000000</td>\n",
       "      <td>0.000000</td>\n",
       "      <td>0.379776</td>\n",
       "      <td>1</td>\n",
       "      <td>0</td>\n",
       "      <td>0</td>\n",
       "    </tr>\n",
       "    <tr>\n",
       "      <th>1</th>\n",
       "      <td>2</td>\n",
       "      <td>USER63</td>\n",
       "      <td>0.367952</td>\n",
       "      <td>0.000000</td>\n",
       "      <td>0.000000</td>\n",
       "      <td>0.367952</td>\n",
       "      <td>1</td>\n",
       "      <td>0</td>\n",
       "      <td>0</td>\n",
       "    </tr>\n",
       "    <tr>\n",
       "      <th>2</th>\n",
       "      <td>3</td>\n",
       "      <td>USER64</td>\n",
       "      <td>0.334763</td>\n",
       "      <td>0.023166</td>\n",
       "      <td>0.000000</td>\n",
       "      <td>0.357929</td>\n",
       "      <td>1</td>\n",
       "      <td>1</td>\n",
       "      <td>1</td>\n",
       "    </tr>\n",
       "    <tr>\n",
       "      <th>3</th>\n",
       "      <td>4</td>\n",
       "      <td>USER53</td>\n",
       "      <td>0.293655</td>\n",
       "      <td>0.021185</td>\n",
       "      <td>0.000000</td>\n",
       "      <td>0.314840</td>\n",
       "      <td>1</td>\n",
       "      <td>1</td>\n",
       "      <td>0</td>\n",
       "    </tr>\n",
       "    <tr>\n",
       "      <th>4</th>\n",
       "      <td>5</td>\n",
       "      <td>USER453</td>\n",
       "      <td>0.000000</td>\n",
       "      <td>0.000000</td>\n",
       "      <td>0.266667</td>\n",
       "      <td>0.266667</td>\n",
       "      <td>0</td>\n",
       "      <td>0</td>\n",
       "      <td>1</td>\n",
       "    </tr>\n",
       "    <tr>\n",
       "      <th>...</th>\n",
       "      <td>...</td>\n",
       "      <td>...</td>\n",
       "      <td>...</td>\n",
       "      <td>...</td>\n",
       "      <td>...</td>\n",
       "      <td>...</td>\n",
       "      <td>...</td>\n",
       "      <td>...</td>\n",
       "      <td>...</td>\n",
       "    </tr>\n",
       "    <tr>\n",
       "      <th>490</th>\n",
       "      <td>491</td>\n",
       "      <td>USER133</td>\n",
       "      <td>0.000000</td>\n",
       "      <td>0.000000</td>\n",
       "      <td>0.000000</td>\n",
       "      <td>0.000000</td>\n",
       "      <td>1</td>\n",
       "      <td>0</td>\n",
       "      <td>0</td>\n",
       "    </tr>\n",
       "    <tr>\n",
       "      <th>491</th>\n",
       "      <td>492</td>\n",
       "      <td>USER459</td>\n",
       "      <td>0.000000</td>\n",
       "      <td>0.000000</td>\n",
       "      <td>0.000000</td>\n",
       "      <td>0.000000</td>\n",
       "      <td>0</td>\n",
       "      <td>0</td>\n",
       "      <td>1</td>\n",
       "    </tr>\n",
       "    <tr>\n",
       "      <th>492</th>\n",
       "      <td>493</td>\n",
       "      <td>USER317</td>\n",
       "      <td>0.000000</td>\n",
       "      <td>0.000000</td>\n",
       "      <td>0.000000</td>\n",
       "      <td>0.000000</td>\n",
       "      <td>0</td>\n",
       "      <td>1</td>\n",
       "      <td>0</td>\n",
       "    </tr>\n",
       "    <tr>\n",
       "      <th>493</th>\n",
       "      <td>494</td>\n",
       "      <td>USER315</td>\n",
       "      <td>0.000000</td>\n",
       "      <td>0.000000</td>\n",
       "      <td>0.000000</td>\n",
       "      <td>0.000000</td>\n",
       "      <td>0</td>\n",
       "      <td>1</td>\n",
       "      <td>0</td>\n",
       "    </tr>\n",
       "    <tr>\n",
       "      <th>494</th>\n",
       "      <td>495</td>\n",
       "      <td>USER496</td>\n",
       "      <td>0.000000</td>\n",
       "      <td>0.000000</td>\n",
       "      <td>0.000000</td>\n",
       "      <td>0.000000</td>\n",
       "      <td>0</td>\n",
       "      <td>0</td>\n",
       "      <td>1</td>\n",
       "    </tr>\n",
       "  </tbody>\n",
       "</table>\n",
       "<p>495 rows × 9 columns</p>\n",
       "</div>"
      ],
      "text/plain": [
       "     user_order     user  disposals_rating  locations_rating  \\\n",
       "0             1   USER44          0.379776          0.000000   \n",
       "1             2   USER63          0.367952          0.000000   \n",
       "2             3   USER64          0.334763          0.023166   \n",
       "3             4   USER53          0.293655          0.021185   \n",
       "4             5  USER453          0.000000          0.000000   \n",
       "..          ...      ...               ...               ...   \n",
       "490         491  USER133          0.000000          0.000000   \n",
       "491         492  USER459          0.000000          0.000000   \n",
       "492         493  USER317          0.000000          0.000000   \n",
       "493         494  USER315          0.000000          0.000000   \n",
       "494         495  USER496          0.000000          0.000000   \n",
       "\n",
       "     receiving_rating  total_rating  disposal_role  locations_role  \\\n",
       "0            0.000000      0.379776              1               0   \n",
       "1            0.000000      0.367952              1               0   \n",
       "2            0.000000      0.357929              1               1   \n",
       "3            0.000000      0.314840              1               1   \n",
       "4            0.266667      0.266667              0               0   \n",
       "..                ...           ...            ...             ...   \n",
       "490          0.000000      0.000000              1               0   \n",
       "491          0.000000      0.000000              0               0   \n",
       "492          0.000000      0.000000              0               1   \n",
       "493          0.000000      0.000000              0               1   \n",
       "494          0.000000      0.000000              0               0   \n",
       "\n",
       "     receiving_role  \n",
       "0                 0  \n",
       "1                 0  \n",
       "2                 1  \n",
       "3                 0  \n",
       "4                 1  \n",
       "..              ...  \n",
       "490               0  \n",
       "491               1  \n",
       "492               0  \n",
       "493               0  \n",
       "494               1  \n",
       "\n",
       "[495 rows x 9 columns]"
      ]
     },
     "execution_count": 4,
     "metadata": {},
     "output_type": "execute_result"
    }
   ],
   "source": [
    "#set index to be first column\n",
    "rating_role.reset_index(inplace=True)\n",
    "#set user_order start from 1\n",
    "rating_role.columns.values[0] = \"user_order\"\n",
    "count = 1\n",
    "for i in range(len(rating_role)):\n",
    "  rating_role['user_order'][i] = count\n",
    "  count = count + 1\n",
    "rating_role"
   ]
  },
  {
   "cell_type": "code",
   "execution_count": 6,
   "metadata": {},
   "outputs": [
    {
     "data": {
      "text/plain": [
       "(0, 0.4)"
      ]
     },
     "execution_count": 6,
     "metadata": {},
     "output_type": "execute_result"
    },
    {
     "data": {
      "image/png": "[encoded data removed]",
      "text/plain": [
       "<Figure size 504x504 with 2 Axes>"
      ]
     },
     "metadata": {
      "needs_background": "light"
     },
     "output_type": "display_data"
    }
   ],
   "source": [
    "#plt.figure(figsize=(200,200))\n",
    "fig, ax = plt.subplots()\n",
    "rating_role.plot(kind = \"scatter\", x = 'user_order', y ='total_rating', c = 'total_rating', cmap = 'plasma_r', ax=ax)\n",
    "plt.gcf().set_size_inches((7, 7))  \n",
    "plt.title(\"Users vs Total Rating\")\n",
    "plt.xlabel(\"User_Order\")\n",
    "plt.ylim(0,0.4)"
   ]
  },
  {
   "cell_type": "code",
   "execution_count": 15,
   "metadata": {},
   "outputs": [],
   "source": [
    "from ipywidgets import interact\n",
    "import pywedge as pw"
   ]
  },
  {
   "cell_type": "code",
   "execution_count": 16,
   "metadata": {},
   "outputs": [
    {
     "name": "stderr",
     "output_type": "stream",
     "text": [
      "/opt/conda/lib/python3.7/site-packages/ipykernel_launcher.py:12: SettingWithCopyWarning: \n",
      "A value is trying to be set on a copy of a slice from a DataFrame\n",
      "\n",
      "See the caveats in the documentation: https://pandas.pydata.org/pandas-docs/stable/user_guide/indexing.html#returning-a-view-versus-a-copy\n",
      "  if sys.path[0] == '':\n"
     ]
    },
    {
     "data": {
      "text/html": [
       "<div>\n",
       "<style scoped>\n",
       "    .dataframe tbody tr th:only-of-type {\n",
       "        vertical-align: middle;\n",
       "    }\n",
       "\n",
       "    .dataframe tbody tr th {\n",
       "        vertical-align: top;\n",
       "    }\n",
       "\n",
       "    .dataframe thead th {\n",
       "        text-align: right;\n",
       "    }\n",
       "</style>\n",
       "<table border=\"1\" class=\"dataframe\">\n",
       "  <thead>\n",
       "    <tr style=\"text-align: right;\">\n",
       "      <th></th>\n",
       "      <th>user_order</th>\n",
       "      <th>user</th>\n",
       "      <th>scan_type_#</th>\n",
       "      <th>ret_date_#</th>\n",
       "      <th>disp_doc_#</th>\n",
       "      <th>err_cost_disposals</th>\n",
       "      <th>std_err_cost_disposals</th>\n",
       "      <th>disposals_rating</th>\n",
       "      <th>org_cost_disposals</th>\n",
       "      <th>scan_type_%</th>\n",
       "      <th>...</th>\n",
       "      <th>misclf_fap_#</th>\n",
       "      <th>cre_mthod_#</th>\n",
       "      <th>err_cost_receiving</th>\n",
       "      <th>std_err_cost_receiving</th>\n",
       "      <th>receiving_rating</th>\n",
       "      <th>org_cost_receiving</th>\n",
       "      <th>misclf_fap_%</th>\n",
       "      <th>cre_mthod_%</th>\n",
       "      <th>err_cost_receiving_%</th>\n",
       "      <th>total_rating</th>\n",
       "    </tr>\n",
       "  </thead>\n",
       "  <tbody>\n",
       "    <tr>\n",
       "      <th>0</th>\n",
       "      <td>1</td>\n",
       "      <td>USER44</td>\n",
       "      <td>105.0</td>\n",
       "      <td>1507</td>\n",
       "      <td>249</td>\n",
       "      <td>1135946.311</td>\n",
       "      <td>6.622482</td>\n",
       "      <td>0.379776</td>\n",
       "      <td>1764655.665</td>\n",
       "      <td>0.033302</td>\n",
       "      <td>...</td>\n",
       "      <td>0.0</td>\n",
       "      <td>0.0</td>\n",
       "      <td>0.00</td>\n",
       "      <td>0.000000</td>\n",
       "      <td>0.000000</td>\n",
       "      <td>0.00</td>\n",
       "      <td>0.0</td>\n",
       "      <td>0.000000</td>\n",
       "      <td>0.000000</td>\n",
       "      <td>0.379776</td>\n",
       "    </tr>\n",
       "    <tr>\n",
       "      <th>1</th>\n",
       "      <td>2</td>\n",
       "      <td>USER63</td>\n",
       "      <td>1242.5</td>\n",
       "      <td>1594</td>\n",
       "      <td>6</td>\n",
       "      <td>912374.690</td>\n",
       "      <td>5.204929</td>\n",
       "      <td>0.367952</td>\n",
       "      <td>1154820.350</td>\n",
       "      <td>0.445181</td>\n",
       "      <td>...</td>\n",
       "      <td>0.0</td>\n",
       "      <td>0.0</td>\n",
       "      <td>0.00</td>\n",
       "      <td>0.000000</td>\n",
       "      <td>0.000000</td>\n",
       "      <td>0.00</td>\n",
       "      <td>0.0</td>\n",
       "      <td>0.000000</td>\n",
       "      <td>0.000000</td>\n",
       "      <td>0.367952</td>\n",
       "    </tr>\n",
       "    <tr>\n",
       "      <th>2</th>\n",
       "      <td>3</td>\n",
       "      <td>USER64</td>\n",
       "      <td>167.5</td>\n",
       "      <td>1321</td>\n",
       "      <td>0</td>\n",
       "      <td>1016052.240</td>\n",
       "      <td>5.862295</td>\n",
       "      <td>0.334763</td>\n",
       "      <td>1386107.310</td>\n",
       "      <td>0.096486</td>\n",
       "      <td>...</td>\n",
       "      <td>0.0</td>\n",
       "      <td>0.0</td>\n",
       "      <td>0.00</td>\n",
       "      <td>-0.109431</td>\n",
       "      <td>0.000000</td>\n",
       "      <td>31188.12</td>\n",
       "      <td>0.0</td>\n",
       "      <td>0.000000</td>\n",
       "      <td>0.000000</td>\n",
       "      <td>0.357929</td>\n",
       "    </tr>\n",
       "    <tr>\n",
       "      <th>3</th>\n",
       "      <td>4</td>\n",
       "      <td>USER53</td>\n",
       "      <td>195.5</td>\n",
       "      <td>1538</td>\n",
       "      <td>1786</td>\n",
       "      <td>628189.278</td>\n",
       "      <td>3.403055</td>\n",
       "      <td>0.293655</td>\n",
       "      <td>660450.721</td>\n",
       "      <td>0.096022</td>\n",
       "      <td>...</td>\n",
       "      <td>0.0</td>\n",
       "      <td>0.0</td>\n",
       "      <td>0.00</td>\n",
       "      <td>0.000000</td>\n",
       "      <td>0.000000</td>\n",
       "      <td>0.00</td>\n",
       "      <td>0.0</td>\n",
       "      <td>0.000000</td>\n",
       "      <td>0.000000</td>\n",
       "      <td>0.314840</td>\n",
       "    </tr>\n",
       "    <tr>\n",
       "      <th>4</th>\n",
       "      <td>5</td>\n",
       "      <td>USER453</td>\n",
       "      <td>0.0</td>\n",
       "      <td>0</td>\n",
       "      <td>0</td>\n",
       "      <td>0.000</td>\n",
       "      <td>0.000000</td>\n",
       "      <td>0.000000</td>\n",
       "      <td>0.000</td>\n",
       "      <td>0.000000</td>\n",
       "      <td>...</td>\n",
       "      <td>0.0</td>\n",
       "      <td>3039.0</td>\n",
       "      <td>7547970.71</td>\n",
       "      <td>12.930853</td>\n",
       "      <td>0.266667</td>\n",
       "      <td>7547970.71</td>\n",
       "      <td>0.0</td>\n",
       "      <td>1.000000</td>\n",
       "      <td>1.000000</td>\n",
       "      <td>0.266667</td>\n",
       "    </tr>\n",
       "    <tr>\n",
       "      <th>5</th>\n",
       "      <td>6</td>\n",
       "      <td>USER37</td>\n",
       "      <td>432.0</td>\n",
       "      <td>1019</td>\n",
       "      <td>107</td>\n",
       "      <td>551575.870</td>\n",
       "      <td>2.917289</td>\n",
       "      <td>0.210337</td>\n",
       "      <td>650603.510</td>\n",
       "      <td>0.313043</td>\n",
       "      <td>...</td>\n",
       "      <td>0.0</td>\n",
       "      <td>0.0</td>\n",
       "      <td>0.00</td>\n",
       "      <td>0.000000</td>\n",
       "      <td>0.000000</td>\n",
       "      <td>0.00</td>\n",
       "      <td>0.0</td>\n",
       "      <td>0.000000</td>\n",
       "      <td>0.000000</td>\n",
       "      <td>0.234780</td>\n",
       "    </tr>\n",
       "    <tr>\n",
       "      <th>6</th>\n",
       "      <td>7</td>\n",
       "      <td>USER4</td>\n",
       "      <td>258.5</td>\n",
       "      <td>928</td>\n",
       "      <td>0</td>\n",
       "      <td>584541.480</td>\n",
       "      <td>3.126307</td>\n",
       "      <td>0.204804</td>\n",
       "      <td>954106.460</td>\n",
       "      <td>0.136196</td>\n",
       "      <td>...</td>\n",
       "      <td>0.0</td>\n",
       "      <td>0.0</td>\n",
       "      <td>0.00</td>\n",
       "      <td>0.000000</td>\n",
       "      <td>0.000000</td>\n",
       "      <td>0.00</td>\n",
       "      <td>0.0</td>\n",
       "      <td>0.000000</td>\n",
       "      <td>0.000000</td>\n",
       "      <td>0.204804</td>\n",
       "    </tr>\n",
       "    <tr>\n",
       "      <th>7</th>\n",
       "      <td>8</td>\n",
       "      <td>USER5</td>\n",
       "      <td>123.5</td>\n",
       "      <td>845</td>\n",
       "      <td>0</td>\n",
       "      <td>469734.100</td>\n",
       "      <td>2.398372</td>\n",
       "      <td>0.162136</td>\n",
       "      <td>799476.260</td>\n",
       "      <td>0.076141</td>\n",
       "      <td>...</td>\n",
       "      <td>0.0</td>\n",
       "      <td>0.0</td>\n",
       "      <td>0.00</td>\n",
       "      <td>0.000000</td>\n",
       "      <td>0.000000</td>\n",
       "      <td>0.00</td>\n",
       "      <td>0.0</td>\n",
       "      <td>0.000000</td>\n",
       "      <td>0.000000</td>\n",
       "      <td>0.196586</td>\n",
       "    </tr>\n",
       "    <tr>\n",
       "      <th>8</th>\n",
       "      <td>9</td>\n",
       "      <td>USER270</td>\n",
       "      <td>0.0</td>\n",
       "      <td>0</td>\n",
       "      <td>0</td>\n",
       "      <td>0.000</td>\n",
       "      <td>0.000000</td>\n",
       "      <td>0.000000</td>\n",
       "      <td>0.000</td>\n",
       "      <td>0.000000</td>\n",
       "      <td>...</td>\n",
       "      <td>0.0</td>\n",
       "      <td>278.0</td>\n",
       "      <td>101226.60</td>\n",
       "      <td>0.065453</td>\n",
       "      <td>0.008781</td>\n",
       "      <td>547830.58</td>\n",
       "      <td>0.0</td>\n",
       "      <td>0.247551</td>\n",
       "      <td>0.184777</td>\n",
       "      <td>0.161692</td>\n",
       "    </tr>\n",
       "    <tr>\n",
       "      <th>9</th>\n",
       "      <td>10</td>\n",
       "      <td>USER70</td>\n",
       "      <td>150.5</td>\n",
       "      <td>922</td>\n",
       "      <td>0</td>\n",
       "      <td>452719.056</td>\n",
       "      <td>2.290488</td>\n",
       "      <td>0.160202</td>\n",
       "      <td>1557018.824</td>\n",
       "      <td>0.043826</td>\n",
       "      <td>...</td>\n",
       "      <td>0.0</td>\n",
       "      <td>0.0</td>\n",
       "      <td>0.00</td>\n",
       "      <td>0.000000</td>\n",
       "      <td>0.000000</td>\n",
       "      <td>0.00</td>\n",
       "      <td>0.0</td>\n",
       "      <td>0.000000</td>\n",
       "      <td>0.000000</td>\n",
       "      <td>0.160202</td>\n",
       "    </tr>\n",
       "  </tbody>\n",
       "</table>\n",
       "<p>10 rows × 30 columns</p>\n",
       "</div>"
      ],
      "text/plain": [
       "   user_order     user  scan_type_#  ret_date_#  disp_doc_#  \\\n",
       "0           1   USER44        105.0        1507         249   \n",
       "1           2   USER63       1242.5        1594           6   \n",
       "2           3   USER64        167.5        1321           0   \n",
       "3           4   USER53        195.5        1538        1786   \n",
       "4           5  USER453          0.0           0           0   \n",
       "5           6   USER37        432.0        1019         107   \n",
       "6           7    USER4        258.5         928           0   \n",
       "7           8    USER5        123.5         845           0   \n",
       "8           9  USER270          0.0           0           0   \n",
       "9          10   USER70        150.5         922           0   \n",
       "\n",
       "   err_cost_disposals  std_err_cost_disposals  disposals_rating  \\\n",
       "0         1135946.311                6.622482          0.379776   \n",
       "1          912374.690                5.204929          0.367952   \n",
       "2         1016052.240                5.862295          0.334763   \n",
       "3          628189.278                3.403055          0.293655   \n",
       "4               0.000                0.000000          0.000000   \n",
       "5          551575.870                2.917289          0.210337   \n",
       "6          584541.480                3.126307          0.204804   \n",
       "7          469734.100                2.398372          0.162136   \n",
       "8               0.000                0.000000          0.000000   \n",
       "9          452719.056                2.290488          0.160202   \n",
       "\n",
       "   org_cost_disposals  scan_type_%  ...  misclf_fap_#  cre_mthod_#  \\\n",
       "0         1764655.665     0.033302  ...           0.0          0.0   \n",
       "1         1154820.350     0.445181  ...           0.0          0.0   \n",
       "2         1386107.310     0.096486  ...           0.0          0.0   \n",
       "3          660450.721     0.096022  ...           0.0          0.0   \n",
       "4               0.000     0.000000  ...           0.0       3039.0   \n",
       "5          650603.510     0.313043  ...           0.0          0.0   \n",
       "6          954106.460     0.136196  ...           0.0          0.0   \n",
       "7          799476.260     0.076141  ...           0.0          0.0   \n",
       "8               0.000     0.000000  ...           0.0        278.0   \n",
       "9         1557018.824     0.043826  ...           0.0          0.0   \n",
       "\n",
       "   err_cost_receiving  std_err_cost_receiving  receiving_rating  \\\n",
       "0                0.00                0.000000          0.000000   \n",
       "1                0.00                0.000000          0.000000   \n",
       "2                0.00               -0.109431          0.000000   \n",
       "3                0.00                0.000000          0.000000   \n",
       "4          7547970.71               12.930853          0.266667   \n",
       "5                0.00                0.000000          0.000000   \n",
       "6                0.00                0.000000          0.000000   \n",
       "7                0.00                0.000000          0.000000   \n",
       "8           101226.60                0.065453          0.008781   \n",
       "9                0.00                0.000000          0.000000   \n",
       "\n",
       "   org_cost_receiving  misclf_fap_%  cre_mthod_%  err_cost_receiving_%  \\\n",
       "0                0.00           0.0     0.000000              0.000000   \n",
       "1                0.00           0.0     0.000000              0.000000   \n",
       "2            31188.12           0.0     0.000000              0.000000   \n",
       "3                0.00           0.0     0.000000              0.000000   \n",
       "4          7547970.71           0.0     1.000000              1.000000   \n",
       "5                0.00           0.0     0.000000              0.000000   \n",
       "6                0.00           0.0     0.000000              0.000000   \n",
       "7                0.00           0.0     0.000000              0.000000   \n",
       "8           547830.58           0.0     0.247551              0.184777   \n",
       "9                0.00           0.0     0.000000              0.000000   \n",
       "\n",
       "   total_rating  \n",
       "0      0.379776  \n",
       "1      0.367952  \n",
       "2      0.357929  \n",
       "3      0.314840  \n",
       "4      0.266667  \n",
       "5      0.234780  \n",
       "6      0.204804  \n",
       "7      0.196586  \n",
       "8      0.161692  \n",
       "9      0.160202  \n",
       "\n",
       "[10 rows x 30 columns]"
      ]
     },
     "execution_count": 16,
     "metadata": {},
     "output_type": "execute_result"
    }
   ],
   "source": [
    "data_key = 'table.Rating_top_10.0401.csv'\n",
    "data_path = 's3://{}/{}'.format(bucket, data_key)\n",
    "\n",
    "# read csv file\n",
    "rating_role = pd.read_csv(data_path, low_memory = False)\n",
    "\n",
    "\n",
    "#rating_role.sort_values(by='total_rating', ascending=False)\n",
    "rating_role.columns.values[0] = \"user_order\"\n",
    "count = 1\n",
    "for i in range(len(rating_role)):\n",
    "  rating_role['user_order'][i] = count\n",
    "  count = count + 1\n",
    "\n",
    "rating_role"
   ]
  },
  {
   "cell_type": "code",
   "execution_count": 17,
   "metadata": {},
   "outputs": [
    {
     "data": {
      "text/plain": [
       "<matplotlib.legend.Legend at 0x7f69eb0af310>"
      ]
     },
     "execution_count": 17,
     "metadata": {},
     "output_type": "execute_result"
    },
    {
     "data": {
      "image/png": "[encoded data removed]",
      "text/plain": [
       "<Figure size 1080x720 with 1 Axes>"
      ]
     },
     "metadata": {
      "needs_background": "light"
     },
     "output_type": "display_data"
    }
   ],
   "source": [
    "#create stack bar plot for total rating\n",
    "bars = np.add(rating_role['disposals_rating'], rating_role['locations_rating']).tolist()\n",
    "#create bottom bar\n",
    "plt.figure(figsize=(15,10))\n",
    "plt.bar(rating_role['user'], rating_role['disposals_rating'], color='#8390FA', edgecolor='white')\n",
    "# Create middle bar\n",
    "plt.bar(rating_role['user'], rating_role['locations_rating'], bottom=rating_role['disposals_rating'], color='#6EAF46', edgecolor='white')\n",
    "# Create top bar\n",
    "plt.bar(rating_role['user'], rating_role['receiving_rating'], bottom=bars, color='#FAC748', edgecolor='white')\n",
    "plt.ylabel('ratings')\n",
    "plt.xlim(-1, 10)\n",
    "plt.ylim(0,0.4)\n",
    "plt.title(\"Top 10 users total ratings\", loc ='center')\n",
    "plt.legend(['Disposal', 'Location', 'Receiving'], loc='upper right', ncol = 3)"
   ]
  },
  {
   "cell_type": "code",
   "execution_count": 18,
   "metadata": {},
   "outputs": [
    {
     "name": "stderr",
     "output_type": "stream",
     "text": [
      "/opt/conda/lib/python3.7/site-packages/ipykernel_launcher.py:10: SettingWithCopyWarning: \n",
      "A value is trying to be set on a copy of a slice from a DataFrame\n",
      "\n",
      "See the caveats in the documentation: https://pandas.pydata.org/pandas-docs/stable/user_guide/indexing.html#returning-a-view-versus-a-copy\n",
      "  # Remove the CWD from sys.path while we load stuff.\n"
     ]
    },
    {
     "data": {
      "text/html": [
       "<div>\n",
       "<style scoped>\n",
       "    .dataframe tbody tr th:only-of-type {\n",
       "        vertical-align: middle;\n",
       "    }\n",
       "\n",
       "    .dataframe tbody tr th {\n",
       "        vertical-align: top;\n",
       "    }\n",
       "\n",
       "    .dataframe thead th {\n",
       "        text-align: right;\n",
       "    }\n",
       "</style>\n",
       "<table border=\"1\" class=\"dataframe\">\n",
       "  <thead>\n",
       "    <tr style=\"text-align: right;\">\n",
       "      <th></th>\n",
       "      <th>user_order</th>\n",
       "      <th>user</th>\n",
       "      <th>scan_type_#</th>\n",
       "      <th>ret_date_#</th>\n",
       "      <th>disp_doc_#</th>\n",
       "      <th>err_cost_disposals</th>\n",
       "      <th>std_err_cost_disposals</th>\n",
       "      <th>disposals_rating</th>\n",
       "      <th>org_cost_disposals</th>\n",
       "      <th>scan_type_%</th>\n",
       "      <th>ret_date_%</th>\n",
       "      <th>disp_doc_%</th>\n",
       "      <th>err_cost_disposals_%</th>\n",
       "    </tr>\n",
       "  </thead>\n",
       "  <tbody>\n",
       "    <tr>\n",
       "      <th>0</th>\n",
       "      <td>1</td>\n",
       "      <td>USER44</td>\n",
       "      <td>105.0</td>\n",
       "      <td>1507</td>\n",
       "      <td>249</td>\n",
       "      <td>1135946.311</td>\n",
       "      <td>6.622482</td>\n",
       "      <td>0.379776</td>\n",
       "      <td>1764655.665</td>\n",
       "      <td>0.033302</td>\n",
       "      <td>0.477958</td>\n",
       "      <td>0.078972</td>\n",
       "      <td>0.643721</td>\n",
       "    </tr>\n",
       "    <tr>\n",
       "      <th>1</th>\n",
       "      <td>2</td>\n",
       "      <td>USER63</td>\n",
       "      <td>1242.5</td>\n",
       "      <td>1594</td>\n",
       "      <td>6</td>\n",
       "      <td>912374.690</td>\n",
       "      <td>5.204929</td>\n",
       "      <td>0.367952</td>\n",
       "      <td>1154820.350</td>\n",
       "      <td>0.445181</td>\n",
       "      <td>0.571121</td>\n",
       "      <td>0.002150</td>\n",
       "      <td>0.790058</td>\n",
       "    </tr>\n",
       "    <tr>\n",
       "      <th>2</th>\n",
       "      <td>3</td>\n",
       "      <td>USER64</td>\n",
       "      <td>167.5</td>\n",
       "      <td>1321</td>\n",
       "      <td>0</td>\n",
       "      <td>1016052.240</td>\n",
       "      <td>5.862295</td>\n",
       "      <td>0.334763</td>\n",
       "      <td>1386107.310</td>\n",
       "      <td>0.096486</td>\n",
       "      <td>0.760945</td>\n",
       "      <td>0.000000</td>\n",
       "      <td>0.733026</td>\n",
       "    </tr>\n",
       "    <tr>\n",
       "      <th>3</th>\n",
       "      <td>4</td>\n",
       "      <td>USER53</td>\n",
       "      <td>195.5</td>\n",
       "      <td>1538</td>\n",
       "      <td>1786</td>\n",
       "      <td>628189.278</td>\n",
       "      <td>3.403055</td>\n",
       "      <td>0.293655</td>\n",
       "      <td>660450.721</td>\n",
       "      <td>0.096022</td>\n",
       "      <td>0.755403</td>\n",
       "      <td>0.877210</td>\n",
       "      <td>0.951152</td>\n",
       "    </tr>\n",
       "    <tr>\n",
       "      <th>4</th>\n",
       "      <td>5</td>\n",
       "      <td>USER37</td>\n",
       "      <td>432.0</td>\n",
       "      <td>1019</td>\n",
       "      <td>107</td>\n",
       "      <td>551575.870</td>\n",
       "      <td>2.917289</td>\n",
       "      <td>0.210337</td>\n",
       "      <td>650603.510</td>\n",
       "      <td>0.313043</td>\n",
       "      <td>0.738406</td>\n",
       "      <td>0.077536</td>\n",
       "      <td>0.847791</td>\n",
       "    </tr>\n",
       "    <tr>\n",
       "      <th>5</th>\n",
       "      <td>6</td>\n",
       "      <td>USER4</td>\n",
       "      <td>258.5</td>\n",
       "      <td>928</td>\n",
       "      <td>0</td>\n",
       "      <td>584541.480</td>\n",
       "      <td>3.126307</td>\n",
       "      <td>0.204804</td>\n",
       "      <td>954106.460</td>\n",
       "      <td>0.136196</td>\n",
       "      <td>0.488936</td>\n",
       "      <td>0.000000</td>\n",
       "      <td>0.612659</td>\n",
       "    </tr>\n",
       "    <tr>\n",
       "      <th>6</th>\n",
       "      <td>7</td>\n",
       "      <td>USER5</td>\n",
       "      <td>123.5</td>\n",
       "      <td>845</td>\n",
       "      <td>0</td>\n",
       "      <td>469734.100</td>\n",
       "      <td>2.398372</td>\n",
       "      <td>0.162136</td>\n",
       "      <td>799476.260</td>\n",
       "      <td>0.076141</td>\n",
       "      <td>0.520962</td>\n",
       "      <td>0.000000</td>\n",
       "      <td>0.587552</td>\n",
       "    </tr>\n",
       "    <tr>\n",
       "      <th>7</th>\n",
       "      <td>8</td>\n",
       "      <td>USER70</td>\n",
       "      <td>150.5</td>\n",
       "      <td>922</td>\n",
       "      <td>0</td>\n",
       "      <td>452719.056</td>\n",
       "      <td>2.290488</td>\n",
       "      <td>0.160202</td>\n",
       "      <td>1557018.824</td>\n",
       "      <td>0.043826</td>\n",
       "      <td>0.268492</td>\n",
       "      <td>0.000000</td>\n",
       "      <td>0.290760</td>\n",
       "    </tr>\n",
       "    <tr>\n",
       "      <th>8</th>\n",
       "      <td>9</td>\n",
       "      <td>USER55</td>\n",
       "      <td>203.0</td>\n",
       "      <td>929</td>\n",
       "      <td>0</td>\n",
       "      <td>412404.729</td>\n",
       "      <td>2.034876</td>\n",
       "      <td>0.151336</td>\n",
       "      <td>739002.540</td>\n",
       "      <td>0.101551</td>\n",
       "      <td>0.464732</td>\n",
       "      <td>0.000000</td>\n",
       "      <td>0.558056</td>\n",
       "    </tr>\n",
       "    <tr>\n",
       "      <th>9</th>\n",
       "      <td>10</td>\n",
       "      <td>USER48</td>\n",
       "      <td>214.0</td>\n",
       "      <td>642</td>\n",
       "      <td>0</td>\n",
       "      <td>429852.945</td>\n",
       "      <td>2.145506</td>\n",
       "      <td>0.151044</td>\n",
       "      <td>602691.845</td>\n",
       "      <td>0.154290</td>\n",
       "      <td>0.462870</td>\n",
       "      <td>0.000000</td>\n",
       "      <td>0.713222</td>\n",
       "    </tr>\n",
       "  </tbody>\n",
       "</table>\n",
       "</div>"
      ],
      "text/plain": [
       "   user_order    user  scan_type_#  ret_date_#  disp_doc_#  \\\n",
       "0           1  USER44        105.0        1507         249   \n",
       "1           2  USER63       1242.5        1594           6   \n",
       "2           3  USER64        167.5        1321           0   \n",
       "3           4  USER53        195.5        1538        1786   \n",
       "4           5  USER37        432.0        1019         107   \n",
       "5           6   USER4        258.5         928           0   \n",
       "6           7   USER5        123.5         845           0   \n",
       "7           8  USER70        150.5         922           0   \n",
       "8           9  USER55        203.0         929           0   \n",
       "9          10  USER48        214.0         642           0   \n",
       "\n",
       "   err_cost_disposals  std_err_cost_disposals  disposals_rating  \\\n",
       "0         1135946.311                6.622482          0.379776   \n",
       "1          912374.690                5.204929          0.367952   \n",
       "2         1016052.240                5.862295          0.334763   \n",
       "3          628189.278                3.403055          0.293655   \n",
       "4          551575.870                2.917289          0.210337   \n",
       "5          584541.480                3.126307          0.204804   \n",
       "6          469734.100                2.398372          0.162136   \n",
       "7          452719.056                2.290488          0.160202   \n",
       "8          412404.729                2.034876          0.151336   \n",
       "9          429852.945                2.145506          0.151044   \n",
       "\n",
       "   org_cost_disposals  scan_type_%  ret_date_%  disp_doc_%  \\\n",
       "0         1764655.665     0.033302    0.477958    0.078972   \n",
       "1         1154820.350     0.445181    0.571121    0.002150   \n",
       "2         1386107.310     0.096486    0.760945    0.000000   \n",
       "3          660450.721     0.096022    0.755403    0.877210   \n",
       "4          650603.510     0.313043    0.738406    0.077536   \n",
       "5          954106.460     0.136196    0.488936    0.000000   \n",
       "6          799476.260     0.076141    0.520962    0.000000   \n",
       "7         1557018.824     0.043826    0.268492    0.000000   \n",
       "8          739002.540     0.101551    0.464732    0.000000   \n",
       "9          602691.845     0.154290    0.462870    0.000000   \n",
       "\n",
       "   err_cost_disposals_%  \n",
       "0              0.643721  \n",
       "1              0.790058  \n",
       "2              0.733026  \n",
       "3              0.951152  \n",
       "4              0.847791  \n",
       "5              0.612659  \n",
       "6              0.587552  \n",
       "7              0.290760  \n",
       "8              0.558056  \n",
       "9              0.713222  "
      ]
     },
     "execution_count": 18,
     "metadata": {},
     "output_type": "execute_result"
    }
   ],
   "source": [
    "data_key = 'table.disposals_top_10.0401.csv'\n",
    "data_path = 's3://{}/{}'.format(bucket, data_key)\n",
    "\n",
    "# read csv file\n",
    "Disposal_role = pd.read_csv(data_path, low_memory = False)\n",
    "\n",
    "Disposal_role.columns.values[0] = \"user_order\"\n",
    "count = 1\n",
    "for i in range(len(Disposal_role)):\n",
    "  Disposal_role['user_order'][i] = count\n",
    "  count = count + 1\n",
    "\n",
    "Disposal_role"
   ]
  },
  {
   "cell_type": "code",
   "execution_count": 20,
   "metadata": {},
   "outputs": [
    {
     "data": {
      "text/plain": [
       "Text(0.5, 1.0, 'Disposal - Top 10 Users vs Disposal Rating')"
      ]
     },
     "execution_count": 20,
     "metadata": {},
     "output_type": "execute_result"
    },
    {
     "data": {
      "image/png": "[encoded data removed]",
      "text/plain": [
       "<Figure size 1152x720 with 1 Axes>"
      ]
     },
     "metadata": {
      "needs_background": "light"
     },
     "output_type": "display_data"
    }
   ],
   "source": [
    "plt.figure(figsize=(16, 10))\n",
    "sns.barplot(x=\"user\", y=\"disposals_rating\", data=Disposal_role)\n",
    "plt.title(\"Disposal - Top 10 Users vs Disposal Rating\")"
   ]
  },
  {
   "cell_type": "code",
   "execution_count": 21,
   "metadata": {},
   "outputs": [
    {
     "data": {
      "text/plain": [
       "Text(0.5, 1.0, 'Disposal - Top 10 Users vs Error Cost')"
      ]
     },
     "execution_count": 21,
     "metadata": {},
     "output_type": "execute_result"
    },
    {
     "data": {
      "image/png": "[encoded data removed]",
      "text/plain": [
       "<Figure size 1152x720 with 1 Axes>"
      ]
     },
     "metadata": {
      "needs_background": "light"
     },
     "output_type": "display_data"
    }
   ],
   "source": [
    "plt.figure(figsize=(16, 10))\n",
    "sns.barplot(x=\"user\", y=\"err_cost_disposals\", data=Disposal_role)\n",
    "plt.title(\"Disposal - Top 10 Users vs Error Cost\")"
   ]
  },
  {
   "cell_type": "code",
   "execution_count": 22,
   "metadata": {},
   "outputs": [
    {
     "data": {
      "text/plain": [
       "Text(0.5, 1.0, 'Disposal - Top 10 Users vs Error Scan_Type Actions')"
      ]
     },
     "execution_count": 22,
     "metadata": {},
     "output_type": "execute_result"
    },
    {
     "data": {
      "image/png": "[encoded data removed]",
      "text/plain": [
       "<Figure size 1152x720 with 1 Axes>"
      ]
     },
     "metadata": {
      "needs_background": "light"
     },
     "output_type": "display_data"
    }
   ],
   "source": [
    "plt.figure(figsize=(16, 10))\n",
    "sns.barplot(x=\"user\", y=\"scan_type_#\", data=Disposal_role)\n",
    "plt.title(\"Disposal - Top 10 Users vs Error Scan_Type Actions\")"
   ]
  },
  {
   "cell_type": "code",
   "execution_count": 23,
   "metadata": {},
   "outputs": [
    {
     "data": {
      "text/plain": [
       "Text(0.5, 1.0, 'Disposal - Top 10 Users vs Error Retirement Date Actions')"
      ]
     },
     "execution_count": 23,
     "metadata": {},
     "output_type": "execute_result"
    },
    {
     "data": {
      "image/png": "[encoded data removed]",
      "text/plain": [
       "<Figure size 1152x720 with 1 Axes>"
      ]
     },
     "metadata": {
      "needs_background": "light"
     },
     "output_type": "display_data"
    }
   ],
   "source": [
    "plt.figure(figsize=(16, 10))\n",
    "sns.barplot(x=\"user\", y=\"ret_date_#\", data=Disposal_role)\n",
    "plt.title(\"Disposal - Top 10 Users vs Error Retirement Date Actions\")"
   ]
  },
  {
   "cell_type": "code",
   "execution_count": 24,
   "metadata": {},
   "outputs": [
    {
     "data": {
      "text/plain": [
       "Text(0.5, 1.0, 'Disposal - Top 10 Users vs Error Documentation Actions')"
      ]
     },
     "execution_count": 24,
     "metadata": {},
     "output_type": "execute_result"
    },
    {
     "data": {
      "image/png": "[encoded data removed]",
      "text/plain": [
       "<Figure size 1152x720 with 1 Axes>"
      ]
     },
     "metadata": {
      "needs_background": "light"
     },
     "output_type": "display_data"
    }
   ],
   "source": [
    "plt.figure(figsize=(16, 10))\n",
    "sns.barplot(x=\"user\", y=\"disp_doc_#\", data=Disposal_role)\n",
    "plt.title(\"Disposal - Top 10 Users vs Error Documentation Actions\")"
   ]
  },
  {
   "cell_type": "markdown",
   "metadata": {},
   "source": [
    "## TOP10 USER LOCATION"
   ]
  },
  {
   "cell_type": "code",
   "execution_count": 26,
   "metadata": {},
   "outputs": [
    {
     "data": {
      "text/html": [
       "<div>\n",
       "<style scoped>\n",
       "    .dataframe tbody tr th:only-of-type {\n",
       "        vertical-align: middle;\n",
       "    }\n",
       "\n",
       "    .dataframe tbody tr th {\n",
       "        vertical-align: top;\n",
       "    }\n",
       "\n",
       "    .dataframe thead th {\n",
       "        text-align: right;\n",
       "    }\n",
       "</style>\n",
       "<table border=\"1\" class=\"dataframe\">\n",
       "  <thead>\n",
       "    <tr style=\"text-align: right;\">\n",
       "      <th></th>\n",
       "      <th>user_order</th>\n",
       "      <th>user</th>\n",
       "      <th>val_ds584_flag_#</th>\n",
       "      <th>err_cost_locations</th>\n",
       "      <th>std_err_cost_locations</th>\n",
       "      <th>locations_rating</th>\n",
       "      <th>org_cost_locations</th>\n",
       "      <th>val_ds584_flag_%</th>\n",
       "      <th>err_cost_locations_%</th>\n",
       "    </tr>\n",
       "  </thead>\n",
       "  <tbody>\n",
       "    <tr>\n",
       "      <th>0</th>\n",
       "      <td>1</td>\n",
       "      <td>USER270</td>\n",
       "      <td>190</td>\n",
       "      <td>487493.270</td>\n",
       "      <td>9.144131</td>\n",
       "      <td>0.152911</td>\n",
       "      <td>487493.270</td>\n",
       "      <td>1.000000</td>\n",
       "      <td>1.000000</td>\n",
       "    </tr>\n",
       "    <tr>\n",
       "      <th>1</th>\n",
       "      <td>2</td>\n",
       "      <td>USER219</td>\n",
       "      <td>647</td>\n",
       "      <td>290365.090</td>\n",
       "      <td>5.250169</td>\n",
       "      <td>0.146084</td>\n",
       "      <td>2631874.970</td>\n",
       "      <td>0.099142</td>\n",
       "      <td>0.110326</td>\n",
       "    </tr>\n",
       "    <tr>\n",
       "      <th>2</th>\n",
       "      <td>3</td>\n",
       "      <td>USER72</td>\n",
       "      <td>591</td>\n",
       "      <td>285030.090</td>\n",
       "      <td>5.144784</td>\n",
       "      <td>0.138854</td>\n",
       "      <td>825719.830</td>\n",
       "      <td>0.354742</td>\n",
       "      <td>0.345190</td>\n",
       "    </tr>\n",
       "    <tr>\n",
       "      <th>3</th>\n",
       "      <td>4</td>\n",
       "      <td>USER73</td>\n",
       "      <td>433</td>\n",
       "      <td>211982.684</td>\n",
       "      <td>3.701846</td>\n",
       "      <td>0.102595</td>\n",
       "      <td>233334.456</td>\n",
       "      <td>0.894628</td>\n",
       "      <td>0.908493</td>\n",
       "    </tr>\n",
       "    <tr>\n",
       "      <th>4</th>\n",
       "      <td>5</td>\n",
       "      <td>USER241</td>\n",
       "      <td>433</td>\n",
       "      <td>181739.980</td>\n",
       "      <td>3.104448</td>\n",
       "      <td>0.094324</td>\n",
       "      <td>747659.820</td>\n",
       "      <td>0.256062</td>\n",
       "      <td>0.243078</td>\n",
       "    </tr>\n",
       "    <tr>\n",
       "      <th>5</th>\n",
       "      <td>6</td>\n",
       "      <td>USER3</td>\n",
       "      <td>408</td>\n",
       "      <td>187565.980</td>\n",
       "      <td>3.219532</td>\n",
       "      <td>0.093341</td>\n",
       "      <td>249960.320</td>\n",
       "      <td>0.739130</td>\n",
       "      <td>0.750383</td>\n",
       "    </tr>\n",
       "    <tr>\n",
       "      <th>6</th>\n",
       "      <td>7</td>\n",
       "      <td>USER174</td>\n",
       "      <td>363</td>\n",
       "      <td>194060.600</td>\n",
       "      <td>3.347823</td>\n",
       "      <td>0.090481</td>\n",
       "      <td>194060.600</td>\n",
       "      <td>1.000000</td>\n",
       "      <td>1.000000</td>\n",
       "    </tr>\n",
       "    <tr>\n",
       "      <th>7</th>\n",
       "      <td>8</td>\n",
       "      <td>USER227</td>\n",
       "      <td>479</td>\n",
       "      <td>108469.660</td>\n",
       "      <td>1.657107</td>\n",
       "      <td>0.079023</td>\n",
       "      <td>188810.820</td>\n",
       "      <td>0.642953</td>\n",
       "      <td>0.574489</td>\n",
       "    </tr>\n",
       "    <tr>\n",
       "      <th>8</th>\n",
       "      <td>9</td>\n",
       "      <td>USER119</td>\n",
       "      <td>335</td>\n",
       "      <td>162601.791</td>\n",
       "      <td>2.726403</td>\n",
       "      <td>0.078991</td>\n",
       "      <td>162601.791</td>\n",
       "      <td>1.000000</td>\n",
       "      <td>1.000000</td>\n",
       "    </tr>\n",
       "    <tr>\n",
       "      <th>9</th>\n",
       "      <td>10</td>\n",
       "      <td>USER252</td>\n",
       "      <td>347</td>\n",
       "      <td>154286.692</td>\n",
       "      <td>2.562151</td>\n",
       "      <td>0.077953</td>\n",
       "      <td>154286.692</td>\n",
       "      <td>1.000000</td>\n",
       "      <td>1.000000</td>\n",
       "    </tr>\n",
       "  </tbody>\n",
       "</table>\n",
       "</div>"
      ],
      "text/plain": [
       "   user_order     user  val_ds584_flag_#  err_cost_locations  \\\n",
       "0           1  USER270               190          487493.270   \n",
       "1           2  USER219               647          290365.090   \n",
       "2           3   USER72               591          285030.090   \n",
       "3           4   USER73               433          211982.684   \n",
       "4           5  USER241               433          181739.980   \n",
       "5           6    USER3               408          187565.980   \n",
       "6           7  USER174               363          194060.600   \n",
       "7           8  USER227               479          108469.660   \n",
       "8           9  USER119               335          162601.791   \n",
       "9          10  USER252               347          154286.692   \n",
       "\n",
       "   std_err_cost_locations  locations_rating  org_cost_locations  \\\n",
       "0                9.144131          0.152911          487493.270   \n",
       "1                5.250169          0.146084         2631874.970   \n",
       "2                5.144784          0.138854          825719.830   \n",
       "3                3.701846          0.102595          233334.456   \n",
       "4                3.104448          0.094324          747659.820   \n",
       "5                3.219532          0.093341          249960.320   \n",
       "6                3.347823          0.090481          194060.600   \n",
       "7                1.657107          0.079023          188810.820   \n",
       "8                2.726403          0.078991          162601.791   \n",
       "9                2.562151          0.077953          154286.692   \n",
       "\n",
       "   val_ds584_flag_%  err_cost_locations_%  \n",
       "0          1.000000              1.000000  \n",
       "1          0.099142              0.110326  \n",
       "2          0.354742              0.345190  \n",
       "3          0.894628              0.908493  \n",
       "4          0.256062              0.243078  \n",
       "5          0.739130              0.750383  \n",
       "6          1.000000              1.000000  \n",
       "7          0.642953              0.574489  \n",
       "8          1.000000              1.000000  \n",
       "9          1.000000              1.000000  "
      ]
     },
     "execution_count": 26,
     "metadata": {},
     "output_type": "execute_result"
    }
   ],
   "source": [
    "data_key = 'table.locations_top_10.0401.csv'\n",
    "data_path = 's3://{}/{}'.format(bucket, data_key)\n",
    "\n",
    "# read csv file\n",
    "location_role = pd.read_csv(data_path, low_memory = False)\n",
    "\n",
    "location_role.columns.values[0] = \"user_order\"\n",
    "count = 1\n",
    "for i in range(len(location_role)):\n",
    "  location_role['user_order'][i] = count\n",
    "  count = count + 1\n",
    "\n",
    "location_role"
   ]
  },
  {
   "cell_type": "code",
   "execution_count": 27,
   "metadata": {},
   "outputs": [
    {
     "data": {
      "text/plain": [
       "Text(0.5, 1.0, 'Location - Top 10 Users vs Location Rating')"
      ]
     },
     "execution_count": 27,
     "metadata": {},
     "output_type": "execute_result"
    },
    {
     "data": {
      "image/png": "[encoded data removed]",
      "text/plain": [
       "<Figure size 1152x720 with 1 Axes>"
      ]
     },
     "metadata": {
      "needs_background": "light"
     },
     "output_type": "display_data"
    }
   ],
   "source": [
    "plt.figure(figsize=(16, 10))\n",
    "sns.barplot(x=\"user\", y=\"locations_rating\", data=location_role)\n",
    "plt.title(\"Location - Top 10 Users vs Location Rating\")"
   ]
  },
  {
   "cell_type": "code",
   "execution_count": 28,
   "metadata": {},
   "outputs": [
    {
     "data": {
      "text/plain": [
       "Text(0.5, 1.0, 'Location - Top 10 Users vs Error Cost')"
      ]
     },
     "execution_count": 28,
     "metadata": {},
     "output_type": "execute_result"
    },
    {
     "data": {
      "image/png": "[encoded data removed]",
      "text/plain": [
       "<Figure size 1152x720 with 1 Axes>"
      ]
     },
     "metadata": {
      "needs_background": "light"
     },
     "output_type": "display_data"
    }
   ],
   "source": [
    "plt.figure(figsize=(16, 10))\n",
    "sns.barplot(x=\"user\", y=\"err_cost_locations\", data=location_role)\n",
    "plt.title(\"Location - Top 10 Users vs Error Cost\")"
   ]
  },
  {
   "cell_type": "code",
   "execution_count": 29,
   "metadata": {},
   "outputs": [
    {
     "data": {
      "text/plain": [
       "Text(0.5, 1.0, 'Location - Top 10 Users vs Error Validation Actions')"
      ]
     },
     "execution_count": 29,
     "metadata": {},
     "output_type": "execute_result"
    },
    {
     "data": {
      "image/png": "[encoded data removed]",
      "text/plain": [
       "<Figure size 1152x720 with 1 Axes>"
      ]
     },
     "metadata": {
      "needs_background": "light"
     },
     "output_type": "display_data"
    }
   ],
   "source": [
    "plt.figure(figsize=(16, 10))\n",
    "sns.barplot(x=\"user\", y=\"val_ds584_flag_#\", data=location_role)\n",
    "plt.title(\"Location - Top 10 Users vs Error Validation Actions\")"
   ]
  },
  {
   "cell_type": "code",
   "execution_count": 30,
   "metadata": {},
   "outputs": [
    {
     "data": {
      "text/plain": [
       "Text(0.5, 1.0, 'Location - Top 10 Users vs Error Validation Action Percentage')"
      ]
     },
     "execution_count": 30,
     "metadata": {},
     "output_type": "execute_result"
    },
    {
     "data": {
      "image/png": "[encoded data removed]",
      "text/plain": [
       "<Figure size 1152x720 with 1 Axes>"
      ]
     },
     "metadata": {
      "needs_background": "light"
     },
     "output_type": "display_data"
    }
   ],
   "source": [
    "plt.figure(figsize=(16, 10))\n",
    "sns.barplot(x=\"user\", y=\"val_ds584_flag_%\", data=location_role)\n",
    "plt.title(\"Location - Top 10 Users vs Error Validation Action Percentage\")"
   ]
  },
  {
   "cell_type": "markdown",
   "metadata": {},
   "source": [
    "## Top 10 Users_Receiving"
   ]
  },
  {
   "cell_type": "code",
   "execution_count": 31,
   "metadata": {},
   "outputs": [
    {
     "data": {
      "text/html": [
       "<div>\n",
       "<style scoped>\n",
       "    .dataframe tbody tr th:only-of-type {\n",
       "        vertical-align: middle;\n",
       "    }\n",
       "\n",
       "    .dataframe tbody tr th {\n",
       "        vertical-align: top;\n",
       "    }\n",
       "\n",
       "    .dataframe thead th {\n",
       "        text-align: right;\n",
       "    }\n",
       "</style>\n",
       "<table border=\"1\" class=\"dataframe\">\n",
       "  <thead>\n",
       "    <tr style=\"text-align: right;\">\n",
       "      <th></th>\n",
       "      <th>user_order</th>\n",
       "      <th>user</th>\n",
       "      <th>misclf_fap_#</th>\n",
       "      <th>cre_mthod_#</th>\n",
       "      <th>err_cost_receiving</th>\n",
       "      <th>std_err_cost_receiving</th>\n",
       "      <th>receiving_rating</th>\n",
       "      <th>org_cost_receiving</th>\n",
       "      <th>misclf_fap_%</th>\n",
       "      <th>cre_mthod_%</th>\n",
       "      <th>err_cost_receiving_%</th>\n",
       "    </tr>\n",
       "  </thead>\n",
       "  <tbody>\n",
       "    <tr>\n",
       "      <th>0</th>\n",
       "      <td>1</td>\n",
       "      <td>USER453</td>\n",
       "      <td>0</td>\n",
       "      <td>3039</td>\n",
       "      <td>7547970.710</td>\n",
       "      <td>12.930853</td>\n",
       "      <td>0.266667</td>\n",
       "      <td>7547970.710</td>\n",
       "      <td>0.000000</td>\n",
       "      <td>1.000000</td>\n",
       "      <td>1.000000</td>\n",
       "    </tr>\n",
       "    <tr>\n",
       "      <th>1</th>\n",
       "      <td>2</td>\n",
       "      <td>USER279</td>\n",
       "      <td>249</td>\n",
       "      <td>37</td>\n",
       "      <td>206313.350</td>\n",
       "      <td>0.247007</td>\n",
       "      <td>0.039612</td>\n",
       "      <td>409818.880</td>\n",
       "      <td>0.335580</td>\n",
       "      <td>0.049865</td>\n",
       "      <td>0.503426</td>\n",
       "    </tr>\n",
       "    <tr>\n",
       "      <th>2</th>\n",
       "      <td>3</td>\n",
       "      <td>USER276</td>\n",
       "      <td>58</td>\n",
       "      <td>1013</td>\n",
       "      <td>139596.990</td>\n",
       "      <td>0.131744</td>\n",
       "      <td>0.033686</td>\n",
       "      <td>1060178.194</td>\n",
       "      <td>0.020737</td>\n",
       "      <td>0.362174</td>\n",
       "      <td>0.131673</td>\n",
       "    </tr>\n",
       "    <tr>\n",
       "      <th>3</th>\n",
       "      <td>4</td>\n",
       "      <td>USER416</td>\n",
       "      <td>231</td>\n",
       "      <td>0</td>\n",
       "      <td>88428.380</td>\n",
       "      <td>0.043343</td>\n",
       "      <td>0.033267</td>\n",
       "      <td>222220.390</td>\n",
       "      <td>0.619303</td>\n",
       "      <td>0.000000</td>\n",
       "      <td>0.397931</td>\n",
       "    </tr>\n",
       "    <tr>\n",
       "      <th>4</th>\n",
       "      <td>5</td>\n",
       "      <td>USER311</td>\n",
       "      <td>186</td>\n",
       "      <td>0</td>\n",
       "      <td>40111.470</td>\n",
       "      <td>-0.040132</td>\n",
       "      <td>0.025962</td>\n",
       "      <td>224414.990</td>\n",
       "      <td>0.267626</td>\n",
       "      <td>0.000000</td>\n",
       "      <td>0.178738</td>\n",
       "    </tr>\n",
       "    <tr>\n",
       "      <th>5</th>\n",
       "      <td>6</td>\n",
       "      <td>USER471</td>\n",
       "      <td>156</td>\n",
       "      <td>0</td>\n",
       "      <td>178174.250</td>\n",
       "      <td>0.198392</td>\n",
       "      <td>0.025605</td>\n",
       "      <td>238958.750</td>\n",
       "      <td>0.636735</td>\n",
       "      <td>0.000000</td>\n",
       "      <td>0.745628</td>\n",
       "    </tr>\n",
       "    <tr>\n",
       "      <th>6</th>\n",
       "      <td>7</td>\n",
       "      <td>USER449</td>\n",
       "      <td>152</td>\n",
       "      <td>83</td>\n",
       "      <td>44376.792</td>\n",
       "      <td>-0.032763</td>\n",
       "      <td>0.023345</td>\n",
       "      <td>2315108.657</td>\n",
       "      <td>0.035968</td>\n",
       "      <td>0.019640</td>\n",
       "      <td>0.019168</td>\n",
       "    </tr>\n",
       "    <tr>\n",
       "      <th>7</th>\n",
       "      <td>8</td>\n",
       "      <td>USER365</td>\n",
       "      <td>145</td>\n",
       "      <td>0</td>\n",
       "      <td>90273.430</td>\n",
       "      <td>0.046530</td>\n",
       "      <td>0.021803</td>\n",
       "      <td>121000.450</td>\n",
       "      <td>0.771277</td>\n",
       "      <td>0.000000</td>\n",
       "      <td>0.746059</td>\n",
       "    </tr>\n",
       "    <tr>\n",
       "      <th>8</th>\n",
       "      <td>9</td>\n",
       "      <td>USER351</td>\n",
       "      <td>136</td>\n",
       "      <td>108</td>\n",
       "      <td>28945.420</td>\n",
       "      <td>-0.059423</td>\n",
       "      <td>0.021342</td>\n",
       "      <td>537252.970</td>\n",
       "      <td>0.097631</td>\n",
       "      <td>0.077531</td>\n",
       "      <td>0.053877</td>\n",
       "    </tr>\n",
       "    <tr>\n",
       "      <th>9</th>\n",
       "      <td>10</td>\n",
       "      <td>USER101</td>\n",
       "      <td>139</td>\n",
       "      <td>11</td>\n",
       "      <td>93195.000</td>\n",
       "      <td>0.051578</td>\n",
       "      <td>0.021318</td>\n",
       "      <td>93195.000</td>\n",
       "      <td>1.000000</td>\n",
       "      <td>0.079137</td>\n",
       "      <td>1.000000</td>\n",
       "    </tr>\n",
       "  </tbody>\n",
       "</table>\n",
       "</div>"
      ],
      "text/plain": [
       "   user_order     user  misclf_fap_#  cre_mthod_#  err_cost_receiving  \\\n",
       "0           1  USER453             0         3039         7547970.710   \n",
       "1           2  USER279           249           37          206313.350   \n",
       "2           3  USER276            58         1013          139596.990   \n",
       "3           4  USER416           231            0           88428.380   \n",
       "4           5  USER311           186            0           40111.470   \n",
       "5           6  USER471           156            0          178174.250   \n",
       "6           7  USER449           152           83           44376.792   \n",
       "7           8  USER365           145            0           90273.430   \n",
       "8           9  USER351           136          108           28945.420   \n",
       "9          10  USER101           139           11           93195.000   \n",
       "\n",
       "   std_err_cost_receiving  receiving_rating  org_cost_receiving  misclf_fap_%  \\\n",
       "0               12.930853          0.266667         7547970.710      0.000000   \n",
       "1                0.247007          0.039612          409818.880      0.335580   \n",
       "2                0.131744          0.033686         1060178.194      0.020737   \n",
       "3                0.043343          0.033267          222220.390      0.619303   \n",
       "4               -0.040132          0.025962          224414.990      0.267626   \n",
       "5                0.198392          0.025605          238958.750      0.636735   \n",
       "6               -0.032763          0.023345         2315108.657      0.035968   \n",
       "7                0.046530          0.021803          121000.450      0.771277   \n",
       "8               -0.059423          0.021342          537252.970      0.097631   \n",
       "9                0.051578          0.021318           93195.000      1.000000   \n",
       "\n",
       "   cre_mthod_%  err_cost_receiving_%  \n",
       "0     1.000000              1.000000  \n",
       "1     0.049865              0.503426  \n",
       "2     0.362174              0.131673  \n",
       "3     0.000000              0.397931  \n",
       "4     0.000000              0.178738  \n",
       "5     0.000000              0.745628  \n",
       "6     0.019640              0.019168  \n",
       "7     0.000000              0.746059  \n",
       "8     0.077531              0.053877  \n",
       "9     0.079137              1.000000  "
      ]
     },
     "execution_count": 31,
     "metadata": {},
     "output_type": "execute_result"
    }
   ],
   "source": [
    "data_key = 'table.receiving_top_10.0401.csv'\n",
    "data_path = 's3://{}/{}'.format(bucket, data_key)\n",
    "\n",
    "# read csv file\n",
    "receiving_role = pd.read_csv(data_path, low_memory = False)\n",
    "\n",
    "receiving_role.columns.values[0] = \"user_order\"\n",
    "count = 1\n",
    "for i in range(len(receiving_role)):\n",
    "  receiving_role['user_order'][i] = count\n",
    "  count = count + 1\n",
    "\n",
    "receiving_role"
   ]
  },
  {
   "cell_type": "code",
   "execution_count": 32,
   "metadata": {},
   "outputs": [
    {
     "data": {
      "text/plain": [
       "Text(0.5, 1.0, 'Receiving - Top 10 Users vs Receiving Rating')"
      ]
     },
     "execution_count": 32,
     "metadata": {},
     "output_type": "execute_result"
    },
    {
     "data": {
      "image/png": "[encoded data removed]",
      "text/plain": [
       "<Figure size 1152x720 with 1 Axes>"
      ]
     },
     "metadata": {
      "needs_background": "light"
     },
     "output_type": "display_data"
    }
   ],
   "source": [
    "plt.figure(figsize=(16, 10))\n",
    "sns.barplot(x=\"user\", y=\"receiving_rating\", data=receiving_role)\n",
    "plt.title(\"Receiving - Top 10 Users vs Receiving Rating\")"
   ]
  },
  {
   "cell_type": "code",
   "execution_count": 33,
   "metadata": {},
   "outputs": [
    {
     "data": {
      "text/plain": [
       "Text(0.5, 1.0, 'Receiving - Top 10 Users vs Error Cost')"
      ]
     },
     "execution_count": 33,
     "metadata": {},
     "output_type": "execute_result"
    },
    {
     "data": {
      "image/png": "[encoded data removed]",
      "text/plain": [
       "<Figure size 1152x720 with 1 Axes>"
      ]
     },
     "metadata": {
      "needs_background": "light"
     },
     "output_type": "display_data"
    }
   ],
   "source": [
    "plt.figure(figsize=(16, 10))\n",
    "sns.barplot(x=\"user\", y=\"err_cost_receiving\", data=receiving_role)\n",
    "plt.title(\"Receiving - Top 10 Users vs Error Cost\")"
   ]
  },
  {
   "cell_type": "code",
   "execution_count": 34,
   "metadata": {},
   "outputs": [
    {
     "data": {
      "text/plain": [
       "Text(0.5, 1.0, 'Receiving - Top 10 Users vs Error Misclassification Actions')"
      ]
     },
     "execution_count": 34,
     "metadata": {},
     "output_type": "execute_result"
    },
    {
     "data": {
      "image/png": "[encoded data removed]",
      "text/plain": [
       "<Figure size 1152x720 with 1 Axes>"
      ]
     },
     "metadata": {
      "needs_background": "light"
     },
     "output_type": "display_data"
    }
   ],
   "source": [
    "plt.figure(figsize=(16, 10))\n",
    "sns.barplot(x=\"user\", y=\"misclf_fap_#\", data=receiving_role)\n",
    "plt.title(\"Receiving - Top 10 Users vs Error Misclassification Actions\")"
   ]
  },
  {
   "cell_type": "code",
   "execution_count": 35,
   "metadata": {},
   "outputs": [
    {
     "data": {
      "text/plain": [
       "Text(0.5, 1.0, 'Receiving - Top 10 Users vs Error Creation Method Actions')"
      ]
     },
     "execution_count": 35,
     "metadata": {},
     "output_type": "execute_result"
    },
    {
     "data": {
      "image/png": "[encoded data removed]",
      "text/plain": [
       "<Figure size 1152x720 with 1 Axes>"
      ]
     },
     "metadata": {
      "needs_background": "light"
     },
     "output_type": "display_data"
    }
   ],
   "source": [
    "plt.figure(figsize=(16, 10))\n",
    "sns.barplot(x=\"user\", y=\"cre_mthod_#\", data=receiving_role)\n",
    "plt.title(\"Receiving - Top 10 Users vs Error Creation Method Actions\")"
   ]
  },
  {
   "cell_type": "code",
   "execution_count": 38,
   "metadata": {},
   "outputs": [
    {
     "data": {
      "text/html": [
       "<div>\n",
       "<style scoped>\n",
       "    .dataframe tbody tr th:only-of-type {\n",
       "        vertical-align: middle;\n",
       "    }\n",
       "\n",
       "    .dataframe tbody tr th {\n",
       "        vertical-align: top;\n",
       "    }\n",
       "\n",
       "    .dataframe thead th {\n",
       "        text-align: right;\n",
       "    }\n",
       "</style>\n",
       "<table border=\"1\" class=\"dataframe\">\n",
       "  <thead>\n",
       "    <tr style=\"text-align: right;\">\n",
       "      <th></th>\n",
       "      <th>location</th>\n",
       "      <th>scan_type_%</th>\n",
       "      <th>ret_date_%</th>\n",
       "      <th>disp_doc_%</th>\n",
       "      <th>err_cost_disposals_%</th>\n",
       "      <th>role_x</th>\n",
       "      <th>val_ds584_flag_%</th>\n",
       "      <th>err_cost_locations_%</th>\n",
       "      <th>role_y</th>\n",
       "      <th>misclf_fap_%</th>\n",
       "      <th>cre_mthod_%</th>\n",
       "      <th>err_cost_receiving_%</th>\n",
       "      <th>role</th>\n",
       "      <th>total_rating</th>\n",
       "    </tr>\n",
       "  </thead>\n",
       "  <tbody>\n",
       "    <tr>\n",
       "      <th>0</th>\n",
       "      <td>LOCATION 141</td>\n",
       "      <td>1.182614</td>\n",
       "      <td>5.478864</td>\n",
       "      <td>0.000000</td>\n",
       "      <td>7.267088</td>\n",
       "      <td>Disposals</td>\n",
       "      <td>0.896684</td>\n",
       "      <td>0.752550</td>\n",
       "      <td>Locations</td>\n",
       "      <td>0.000000</td>\n",
       "      <td>2.133333</td>\n",
       "      <td>2.183163</td>\n",
       "      <td>Receiving</td>\n",
       "      <td>0.675190</td>\n",
       "    </tr>\n",
       "    <tr>\n",
       "      <th>1</th>\n",
       "      <td>LOCATION 101</td>\n",
       "      <td>0.300635</td>\n",
       "      <td>1.360217</td>\n",
       "      <td>0.877210</td>\n",
       "      <td>1.462682</td>\n",
       "      <td>Disposals</td>\n",
       "      <td>8.291312</td>\n",
       "      <td>8.843908</td>\n",
       "      <td>Locations</td>\n",
       "      <td>0.020737</td>\n",
       "      <td>0.362174</td>\n",
       "      <td>0.131673</td>\n",
       "      <td>Receiving</td>\n",
       "      <td>0.549584</td>\n",
       "    </tr>\n",
       "    <tr>\n",
       "      <th>2</th>\n",
       "      <td>LOCATION 120</td>\n",
       "      <td>0.176244</td>\n",
       "      <td>1.346203</td>\n",
       "      <td>0.000000</td>\n",
       "      <td>1.354732</td>\n",
       "      <td>Disposals</td>\n",
       "      <td>0.224165</td>\n",
       "      <td>0.188925</td>\n",
       "      <td>Locations</td>\n",
       "      <td>0.015198</td>\n",
       "      <td>0.000000</td>\n",
       "      <td>0.000517</td>\n",
       "      <td>Receiving</td>\n",
       "      <td>0.479570</td>\n",
       "    </tr>\n",
       "    <tr>\n",
       "      <th>3</th>\n",
       "      <td>LOCATION 27</td>\n",
       "      <td>0.945181</td>\n",
       "      <td>0.824968</td>\n",
       "      <td>0.002150</td>\n",
       "      <td>1.699408</td>\n",
       "      <td>Disposals</td>\n",
       "      <td>1.125784</td>\n",
       "      <td>1.096320</td>\n",
       "      <td>Locations</td>\n",
       "      <td>0.171618</td>\n",
       "      <td>0.000000</td>\n",
       "      <td>0.042453</td>\n",
       "      <td>Receiving</td>\n",
       "      <td>0.456897</td>\n",
       "    </tr>\n",
       "    <tr>\n",
       "      <th>4</th>\n",
       "      <td>LOCATION 131</td>\n",
       "      <td>0.091812</td>\n",
       "      <td>2.877748</td>\n",
       "      <td>0.078972</td>\n",
       "      <td>2.824332</td>\n",
       "      <td>Disposals</td>\n",
       "      <td>0.112050</td>\n",
       "      <td>0.112563</td>\n",
       "      <td>Locations</td>\n",
       "      <td>0.058760</td>\n",
       "      <td>0.080460</td>\n",
       "      <td>0.120937</td>\n",
       "      <td>Receiving</td>\n",
       "      <td>0.448316</td>\n",
       "    </tr>\n",
       "    <tr>\n",
       "      <th>...</th>\n",
       "      <td>...</td>\n",
       "      <td>...</td>\n",
       "      <td>...</td>\n",
       "      <td>...</td>\n",
       "      <td>...</td>\n",
       "      <td>...</td>\n",
       "      <td>...</td>\n",
       "      <td>...</td>\n",
       "      <td>...</td>\n",
       "      <td>...</td>\n",
       "      <td>...</td>\n",
       "      <td>...</td>\n",
       "      <td>...</td>\n",
       "      <td>...</td>\n",
       "    </tr>\n",
       "    <tr>\n",
       "      <th>128</th>\n",
       "      <td>LOCATION 204</td>\n",
       "      <td>0.000000</td>\n",
       "      <td>0.181818</td>\n",
       "      <td>0.272727</td>\n",
       "      <td>0.352802</td>\n",
       "      <td>Disposals</td>\n",
       "      <td>0.000000</td>\n",
       "      <td>0.000000</td>\n",
       "      <td>0</td>\n",
       "      <td>0.000000</td>\n",
       "      <td>0.000000</td>\n",
       "      <td>0.000000</td>\n",
       "      <td>0</td>\n",
       "      <td>0.001507</td>\n",
       "    </tr>\n",
       "    <tr>\n",
       "      <th>129</th>\n",
       "      <td>LOCATION 656</td>\n",
       "      <td>0.000000</td>\n",
       "      <td>0.000000</td>\n",
       "      <td>0.000000</td>\n",
       "      <td>0.000000</td>\n",
       "      <td>0</td>\n",
       "      <td>0.115385</td>\n",
       "      <td>0.173501</td>\n",
       "      <td>Locations</td>\n",
       "      <td>0.000000</td>\n",
       "      <td>0.000000</td>\n",
       "      <td>0.000000</td>\n",
       "      <td>0</td>\n",
       "      <td>0.001396</td>\n",
       "    </tr>\n",
       "    <tr>\n",
       "      <th>130</th>\n",
       "      <td>LOCATION 658</td>\n",
       "      <td>0.000000</td>\n",
       "      <td>0.000000</td>\n",
       "      <td>0.000000</td>\n",
       "      <td>0.000000</td>\n",
       "      <td>0</td>\n",
       "      <td>0.115385</td>\n",
       "      <td>0.173501</td>\n",
       "      <td>Locations</td>\n",
       "      <td>0.000000</td>\n",
       "      <td>0.000000</td>\n",
       "      <td>0.000000</td>\n",
       "      <td>0</td>\n",
       "      <td>0.001396</td>\n",
       "    </tr>\n",
       "    <tr>\n",
       "      <th>131</th>\n",
       "      <td>LOCATION 662</td>\n",
       "      <td>0.000000</td>\n",
       "      <td>0.000000</td>\n",
       "      <td>0.000000</td>\n",
       "      <td>0.000000</td>\n",
       "      <td>0</td>\n",
       "      <td>0.115385</td>\n",
       "      <td>0.173501</td>\n",
       "      <td>Locations</td>\n",
       "      <td>0.000000</td>\n",
       "      <td>0.000000</td>\n",
       "      <td>0.000000</td>\n",
       "      <td>0</td>\n",
       "      <td>0.001396</td>\n",
       "    </tr>\n",
       "    <tr>\n",
       "      <th>132</th>\n",
       "      <td>LOCATION 661</td>\n",
       "      <td>0.000000</td>\n",
       "      <td>0.000000</td>\n",
       "      <td>0.000000</td>\n",
       "      <td>0.000000</td>\n",
       "      <td>0</td>\n",
       "      <td>0.000000</td>\n",
       "      <td>0.000000</td>\n",
       "      <td>Locations</td>\n",
       "      <td>0.000000</td>\n",
       "      <td>0.000000</td>\n",
       "      <td>0.000000</td>\n",
       "      <td>0</td>\n",
       "      <td>0.000000</td>\n",
       "    </tr>\n",
       "  </tbody>\n",
       "</table>\n",
       "<p>133 rows × 14 columns</p>\n",
       "</div>"
      ],
      "text/plain": [
       "         location  scan_type_%  ret_date_%  disp_doc_%  err_cost_disposals_%  \\\n",
       "0    LOCATION 141     1.182614    5.478864    0.000000              7.267088   \n",
       "1    LOCATION 101     0.300635    1.360217    0.877210              1.462682   \n",
       "2    LOCATION 120     0.176244    1.346203    0.000000              1.354732   \n",
       "3     LOCATION 27     0.945181    0.824968    0.002150              1.699408   \n",
       "4    LOCATION 131     0.091812    2.877748    0.078972              2.824332   \n",
       "..            ...          ...         ...         ...                   ...   \n",
       "128  LOCATION 204     0.000000    0.181818    0.272727              0.352802   \n",
       "129  LOCATION 656     0.000000    0.000000    0.000000              0.000000   \n",
       "130  LOCATION 658     0.000000    0.000000    0.000000              0.000000   \n",
       "131  LOCATION 662     0.000000    0.000000    0.000000              0.000000   \n",
       "132  LOCATION 661     0.000000    0.000000    0.000000              0.000000   \n",
       "\n",
       "        role_x  val_ds584_flag_%  err_cost_locations_%     role_y  \\\n",
       "0    Disposals          0.896684              0.752550  Locations   \n",
       "1    Disposals          8.291312              8.843908  Locations   \n",
       "2    Disposals          0.224165              0.188925  Locations   \n",
       "3    Disposals          1.125784              1.096320  Locations   \n",
       "4    Disposals          0.112050              0.112563  Locations   \n",
       "..         ...               ...                   ...        ...   \n",
       "128  Disposals          0.000000              0.000000          0   \n",
       "129          0          0.115385              0.173501  Locations   \n",
       "130          0          0.115385              0.173501  Locations   \n",
       "131          0          0.115385              0.173501  Locations   \n",
       "132          0          0.000000              0.000000  Locations   \n",
       "\n",
       "     misclf_fap_%  cre_mthod_%  err_cost_receiving_%       role  total_rating  \n",
       "0        0.000000     2.133333              2.183163  Receiving      0.675190  \n",
       "1        0.020737     0.362174              0.131673  Receiving      0.549584  \n",
       "2        0.015198     0.000000              0.000517  Receiving      0.479570  \n",
       "3        0.171618     0.000000              0.042453  Receiving      0.456897  \n",
       "4        0.058760     0.080460              0.120937  Receiving      0.448316  \n",
       "..            ...          ...                   ...        ...           ...  \n",
       "128      0.000000     0.000000              0.000000          0      0.001507  \n",
       "129      0.000000     0.000000              0.000000          0      0.001396  \n",
       "130      0.000000     0.000000              0.000000          0      0.001396  \n",
       "131      0.000000     0.000000              0.000000          0      0.001396  \n",
       "132      0.000000     0.000000              0.000000          0      0.000000  \n",
       "\n",
       "[133 rows x 14 columns]"
      ]
     },
     "execution_count": 38,
     "metadata": {},
     "output_type": "execute_result"
    }
   ],
   "source": [
    "data_key = 'table.Location_Rating.0401.csv'\n",
    "data_path = 's3://{}/{}'.format(bucket, data_key)\n",
    "\n",
    "# read csv file\n",
    "Location_rating = pd.read_csv(data_path, low_memory = False)\n",
    "Location_rating=Location_rating.drop(Location_rating.columns[0], axis=1)\n",
    "Location_rating=Location_rating.sort_values(by='total_rating', ascending=False, ignore_index=True)\n",
    "Location_rating"
   ]
  },
  {
   "cell_type": "code",
   "execution_count": 39,
   "metadata": {},
   "outputs": [
    {
     "data": {
      "text/html": [
       "<div>\n",
       "<style scoped>\n",
       "    .dataframe tbody tr th:only-of-type {\n",
       "        vertical-align: middle;\n",
       "    }\n",
       "\n",
       "    .dataframe tbody tr th {\n",
       "        vertical-align: top;\n",
       "    }\n",
       "\n",
       "    .dataframe thead th {\n",
       "        text-align: right;\n",
       "    }\n",
       "</style>\n",
       "<table border=\"1\" class=\"dataframe\">\n",
       "  <thead>\n",
       "    <tr style=\"text-align: right;\">\n",
       "      <th></th>\n",
       "      <th>Location_order</th>\n",
       "      <th>location</th>\n",
       "      <th>scan_type_%</th>\n",
       "      <th>ret_date_%</th>\n",
       "      <th>disp_doc_%</th>\n",
       "      <th>err_cost_disposals_%</th>\n",
       "      <th>role_x</th>\n",
       "      <th>val_ds584_flag_%</th>\n",
       "      <th>err_cost_locations_%</th>\n",
       "      <th>role_y</th>\n",
       "      <th>misclf_fap_%</th>\n",
       "      <th>cre_mthod_%</th>\n",
       "      <th>err_cost_receiving_%</th>\n",
       "      <th>role</th>\n",
       "      <th>total_rating</th>\n",
       "    </tr>\n",
       "  </thead>\n",
       "  <tbody>\n",
       "    <tr>\n",
       "      <th>0</th>\n",
       "      <td>1</td>\n",
       "      <td>LOCATION 141</td>\n",
       "      <td>1.182614</td>\n",
       "      <td>5.478864</td>\n",
       "      <td>0.000000</td>\n",
       "      <td>7.267088</td>\n",
       "      <td>Disposals</td>\n",
       "      <td>0.896684</td>\n",
       "      <td>0.752550</td>\n",
       "      <td>Locations</td>\n",
       "      <td>0.000000</td>\n",
       "      <td>2.133333</td>\n",
       "      <td>2.183163</td>\n",
       "      <td>Receiving</td>\n",
       "      <td>0.675190</td>\n",
       "    </tr>\n",
       "    <tr>\n",
       "      <th>1</th>\n",
       "      <td>2</td>\n",
       "      <td>LOCATION 101</td>\n",
       "      <td>0.300635</td>\n",
       "      <td>1.360217</td>\n",
       "      <td>0.877210</td>\n",
       "      <td>1.462682</td>\n",
       "      <td>Disposals</td>\n",
       "      <td>8.291312</td>\n",
       "      <td>8.843908</td>\n",
       "      <td>Locations</td>\n",
       "      <td>0.020737</td>\n",
       "      <td>0.362174</td>\n",
       "      <td>0.131673</td>\n",
       "      <td>Receiving</td>\n",
       "      <td>0.549584</td>\n",
       "    </tr>\n",
       "    <tr>\n",
       "      <th>2</th>\n",
       "      <td>3</td>\n",
       "      <td>LOCATION 120</td>\n",
       "      <td>0.176244</td>\n",
       "      <td>1.346203</td>\n",
       "      <td>0.000000</td>\n",
       "      <td>1.354732</td>\n",
       "      <td>Disposals</td>\n",
       "      <td>0.224165</td>\n",
       "      <td>0.188925</td>\n",
       "      <td>Locations</td>\n",
       "      <td>0.015198</td>\n",
       "      <td>0.000000</td>\n",
       "      <td>0.000517</td>\n",
       "      <td>Receiving</td>\n",
       "      <td>0.479570</td>\n",
       "    </tr>\n",
       "    <tr>\n",
       "      <th>3</th>\n",
       "      <td>4</td>\n",
       "      <td>LOCATION 27</td>\n",
       "      <td>0.945181</td>\n",
       "      <td>0.824968</td>\n",
       "      <td>0.002150</td>\n",
       "      <td>1.699408</td>\n",
       "      <td>Disposals</td>\n",
       "      <td>1.125784</td>\n",
       "      <td>1.096320</td>\n",
       "      <td>Locations</td>\n",
       "      <td>0.171618</td>\n",
       "      <td>0.000000</td>\n",
       "      <td>0.042453</td>\n",
       "      <td>Receiving</td>\n",
       "      <td>0.456897</td>\n",
       "    </tr>\n",
       "    <tr>\n",
       "      <th>4</th>\n",
       "      <td>5</td>\n",
       "      <td>LOCATION 131</td>\n",
       "      <td>0.091812</td>\n",
       "      <td>2.877748</td>\n",
       "      <td>0.078972</td>\n",
       "      <td>2.824332</td>\n",
       "      <td>Disposals</td>\n",
       "      <td>0.112050</td>\n",
       "      <td>0.112563</td>\n",
       "      <td>Locations</td>\n",
       "      <td>0.058760</td>\n",
       "      <td>0.080460</td>\n",
       "      <td>0.120937</td>\n",
       "      <td>Receiving</td>\n",
       "      <td>0.448316</td>\n",
       "    </tr>\n",
       "    <tr>\n",
       "      <th>...</th>\n",
       "      <td>...</td>\n",
       "      <td>...</td>\n",
       "      <td>...</td>\n",
       "      <td>...</td>\n",
       "      <td>...</td>\n",
       "      <td>...</td>\n",
       "      <td>...</td>\n",
       "      <td>...</td>\n",
       "      <td>...</td>\n",
       "      <td>...</td>\n",
       "      <td>...</td>\n",
       "      <td>...</td>\n",
       "      <td>...</td>\n",
       "      <td>...</td>\n",
       "      <td>...</td>\n",
       "    </tr>\n",
       "    <tr>\n",
       "      <th>128</th>\n",
       "      <td>129</td>\n",
       "      <td>LOCATION 204</td>\n",
       "      <td>0.000000</td>\n",
       "      <td>0.181818</td>\n",
       "      <td>0.272727</td>\n",
       "      <td>0.352802</td>\n",
       "      <td>Disposals</td>\n",
       "      <td>0.000000</td>\n",
       "      <td>0.000000</td>\n",
       "      <td>0</td>\n",
       "      <td>0.000000</td>\n",
       "      <td>0.000000</td>\n",
       "      <td>0.000000</td>\n",
       "      <td>0</td>\n",
       "      <td>0.001507</td>\n",
       "    </tr>\n",
       "    <tr>\n",
       "      <th>129</th>\n",
       "      <td>130</td>\n",
       "      <td>LOCATION 656</td>\n",
       "      <td>0.000000</td>\n",
       "      <td>0.000000</td>\n",
       "      <td>0.000000</td>\n",
       "      <td>0.000000</td>\n",
       "      <td>0</td>\n",
       "      <td>0.115385</td>\n",
       "      <td>0.173501</td>\n",
       "      <td>Locations</td>\n",
       "      <td>0.000000</td>\n",
       "      <td>0.000000</td>\n",
       "      <td>0.000000</td>\n",
       "      <td>0</td>\n",
       "      <td>0.001396</td>\n",
       "    </tr>\n",
       "    <tr>\n",
       "      <th>130</th>\n",
       "      <td>131</td>\n",
       "      <td>LOCATION 658</td>\n",
       "      <td>0.000000</td>\n",
       "      <td>0.000000</td>\n",
       "      <td>0.000000</td>\n",
       "      <td>0.000000</td>\n",
       "      <td>0</td>\n",
       "      <td>0.115385</td>\n",
       "      <td>0.173501</td>\n",
       "      <td>Locations</td>\n",
       "      <td>0.000000</td>\n",
       "      <td>0.000000</td>\n",
       "      <td>0.000000</td>\n",
       "      <td>0</td>\n",
       "      <td>0.001396</td>\n",
       "    </tr>\n",
       "    <tr>\n",
       "      <th>131</th>\n",
       "      <td>132</td>\n",
       "      <td>LOCATION 662</td>\n",
       "      <td>0.000000</td>\n",
       "      <td>0.000000</td>\n",
       "      <td>0.000000</td>\n",
       "      <td>0.000000</td>\n",
       "      <td>0</td>\n",
       "      <td>0.115385</td>\n",
       "      <td>0.173501</td>\n",
       "      <td>Locations</td>\n",
       "      <td>0.000000</td>\n",
       "      <td>0.000000</td>\n",
       "      <td>0.000000</td>\n",
       "      <td>0</td>\n",
       "      <td>0.001396</td>\n",
       "    </tr>\n",
       "    <tr>\n",
       "      <th>132</th>\n",
       "      <td>133</td>\n",
       "      <td>LOCATION 661</td>\n",
       "      <td>0.000000</td>\n",
       "      <td>0.000000</td>\n",
       "      <td>0.000000</td>\n",
       "      <td>0.000000</td>\n",
       "      <td>0</td>\n",
       "      <td>0.000000</td>\n",
       "      <td>0.000000</td>\n",
       "      <td>Locations</td>\n",
       "      <td>0.000000</td>\n",
       "      <td>0.000000</td>\n",
       "      <td>0.000000</td>\n",
       "      <td>0</td>\n",
       "      <td>0.000000</td>\n",
       "    </tr>\n",
       "  </tbody>\n",
       "</table>\n",
       "<p>133 rows × 15 columns</p>\n",
       "</div>"
      ],
      "text/plain": [
       "     Location_order      location  scan_type_%  ret_date_%  disp_doc_%  \\\n",
       "0                 1  LOCATION 141     1.182614    5.478864    0.000000   \n",
       "1                 2  LOCATION 101     0.300635    1.360217    0.877210   \n",
       "2                 3  LOCATION 120     0.176244    1.346203    0.000000   \n",
       "3                 4   LOCATION 27     0.945181    0.824968    0.002150   \n",
       "4                 5  LOCATION 131     0.091812    2.877748    0.078972   \n",
       "..              ...           ...          ...         ...         ...   \n",
       "128             129  LOCATION 204     0.000000    0.181818    0.272727   \n",
       "129             130  LOCATION 656     0.000000    0.000000    0.000000   \n",
       "130             131  LOCATION 658     0.000000    0.000000    0.000000   \n",
       "131             132  LOCATION 662     0.000000    0.000000    0.000000   \n",
       "132             133  LOCATION 661     0.000000    0.000000    0.000000   \n",
       "\n",
       "     err_cost_disposals_%     role_x  val_ds584_flag_%  err_cost_locations_%  \\\n",
       "0                7.267088  Disposals          0.896684              0.752550   \n",
       "1                1.462682  Disposals          8.291312              8.843908   \n",
       "2                1.354732  Disposals          0.224165              0.188925   \n",
       "3                1.699408  Disposals          1.125784              1.096320   \n",
       "4                2.824332  Disposals          0.112050              0.112563   \n",
       "..                    ...        ...               ...                   ...   \n",
       "128              0.352802  Disposals          0.000000              0.000000   \n",
       "129              0.000000          0          0.115385              0.173501   \n",
       "130              0.000000          0          0.115385              0.173501   \n",
       "131              0.000000          0          0.115385              0.173501   \n",
       "132              0.000000          0          0.000000              0.000000   \n",
       "\n",
       "        role_y  misclf_fap_%  cre_mthod_%  err_cost_receiving_%       role  \\\n",
       "0    Locations      0.000000     2.133333              2.183163  Receiving   \n",
       "1    Locations      0.020737     0.362174              0.131673  Receiving   \n",
       "2    Locations      0.015198     0.000000              0.000517  Receiving   \n",
       "3    Locations      0.171618     0.000000              0.042453  Receiving   \n",
       "4    Locations      0.058760     0.080460              0.120937  Receiving   \n",
       "..         ...           ...          ...                   ...        ...   \n",
       "128          0      0.000000     0.000000              0.000000          0   \n",
       "129  Locations      0.000000     0.000000              0.000000          0   \n",
       "130  Locations      0.000000     0.000000              0.000000          0   \n",
       "131  Locations      0.000000     0.000000              0.000000          0   \n",
       "132  Locations      0.000000     0.000000              0.000000          0   \n",
       "\n",
       "     total_rating  \n",
       "0        0.675190  \n",
       "1        0.549584  \n",
       "2        0.479570  \n",
       "3        0.456897  \n",
       "4        0.448316  \n",
       "..            ...  \n",
       "128      0.001507  \n",
       "129      0.001396  \n",
       "130      0.001396  \n",
       "131      0.001396  \n",
       "132      0.000000  \n",
       "\n",
       "[133 rows x 15 columns]"
      ]
     },
     "execution_count": 39,
     "metadata": {},
     "output_type": "execute_result"
    }
   ],
   "source": [
    "#set index to be first column\n",
    "Location_rating.reset_index(inplace=True)\n",
    "#set user_order start from 1\n",
    "Location_rating.columns.values[0] = \"Location_order\"\n",
    "count = 1\n",
    "for i in range(len(Location_rating)):\n",
    "  Location_rating['Location_order'][i] = count\n",
    "  count = count + 1\n",
    "Location_rating"
   ]
  },
  {
   "cell_type": "code",
   "execution_count": 40,
   "metadata": {},
   "outputs": [
    {
     "data": {
      "text/plain": [
       "(0, 0.8)"
      ]
     },
     "execution_count": 40,
     "metadata": {},
     "output_type": "execute_result"
    },
    {
     "data": {
      "image/png": "[encoded data removed]",
      "text/plain": [
       "<Figure size 720x504 with 2 Axes>"
      ]
     },
     "metadata": {
      "needs_background": "light"
     },
     "output_type": "display_data"
    }
   ],
   "source": [
    "#Total Rating with Location Order\n",
    "fig, ax = plt.subplots()\n",
    "Location_rating.plot(kind = \"scatter\", x = 'Location_order', y ='total_rating', c = 'total_rating', cmap = 'viridis_r', ax=ax)\n",
    "plt.gcf().set_size_inches((10, 7))  \n",
    "plt.title(\"Location vs Total Rating\")\n",
    "plt.xlabel(\"Location_Order\")\n",
    "plt.ylim(0,0.8)"
   ]
  },
  {
   "cell_type": "code",
   "execution_count": 41,
   "metadata": {},
   "outputs": [
    {
     "ename": "AttributeError",
     "evalue": "module 'seaborn' has no attribute 'displot'",
     "output_type": "error",
     "traceback": [
      "\u001b[0;31m---------------------------------------------------------------------------\u001b[0m",
      "\u001b[0;31mAttributeError\u001b[0m                            Traceback (most recent call last)",
      "\u001b[0;32m<ipython-input-41-f404ab965718>\u001b[0m in \u001b[0;36m<module>\u001b[0;34m\u001b[0m\n\u001b[0;32m----> 1\u001b[0;31m \u001b[0msns\u001b[0m\u001b[0;34m.\u001b[0m\u001b[0mdisplot\u001b[0m\u001b[0;34m(\u001b[0m\u001b[0mLocation_rating\u001b[0m\u001b[0;34m,\u001b[0m \u001b[0mx\u001b[0m \u001b[0;34m=\u001b[0m \u001b[0;34m\"total_rating\"\u001b[0m\u001b[0;34m)\u001b[0m\u001b[0;34m\u001b[0m\u001b[0;34m\u001b[0m\u001b[0m\n\u001b[0m\u001b[1;32m      2\u001b[0m \u001b[0mplt\u001b[0m\u001b[0;34m.\u001b[0m\u001b[0mtitle\u001b[0m\u001b[0;34m(\u001b[0m\u001b[0;34m\"Histogram of Location vs. Total Rating\"\u001b[0m\u001b[0;34m)\u001b[0m\u001b[0;34m\u001b[0m\u001b[0;34m\u001b[0m\u001b[0m\n",
      "\u001b[0;31mAttributeError\u001b[0m: module 'seaborn' has no attribute 'displot'"
     ]
    }
   ],
   "source": [
    "sns.displot(Location_rating, x = \"total_rating\")\n",
    "plt.title(\"Histogram of Location vs. Total Rating\")"
   ]
  },
  {
   "cell_type": "markdown",
   "metadata": {},
   "source": [
    "## Top 10 Business Unit_Disposal Role"
   ]
  },
  {
   "cell_type": "code",
   "execution_count": 43,
   "metadata": {},
   "outputs": [
    {
     "data": {
      "text/html": [
       "<div>\n",
       "<style scoped>\n",
       "    .dataframe tbody tr th:only-of-type {\n",
       "        vertical-align: middle;\n",
       "    }\n",
       "\n",
       "    .dataframe tbody tr th {\n",
       "        vertical-align: top;\n",
       "    }\n",
       "\n",
       "    .dataframe thead th {\n",
       "        text-align: right;\n",
       "    }\n",
       "</style>\n",
       "<table border=\"1\" class=\"dataframe\">\n",
       "  <thead>\n",
       "    <tr style=\"text-align: right;\">\n",
       "      <th></th>\n",
       "      <th>location_order</th>\n",
       "      <th>location</th>\n",
       "      <th>disposals_rating</th>\n",
       "      <th>scan_type_%</th>\n",
       "      <th>ret_date_%</th>\n",
       "      <th>disp_doc_%</th>\n",
       "      <th>err_cost_disposals_%</th>\n",
       "      <th>role</th>\n",
       "    </tr>\n",
       "  </thead>\n",
       "  <tbody>\n",
       "    <tr>\n",
       "      <th>0</th>\n",
       "      <td>1</td>\n",
       "      <td>LOCATION 141</td>\n",
       "      <td>0.579829</td>\n",
       "      <td>1.182614</td>\n",
       "      <td>5.478864</td>\n",
       "      <td>0.000000</td>\n",
       "      <td>7.267088</td>\n",
       "      <td>Disposals</td>\n",
       "    </tr>\n",
       "    <tr>\n",
       "      <th>1</th>\n",
       "      <td>2</td>\n",
       "      <td>LOCATION 120</td>\n",
       "      <td>0.436837</td>\n",
       "      <td>0.176244</td>\n",
       "      <td>1.346203</td>\n",
       "      <td>0.000000</td>\n",
       "      <td>1.354732</td>\n",
       "      <td>Disposals</td>\n",
       "    </tr>\n",
       "    <tr>\n",
       "      <th>2</th>\n",
       "      <td>3</td>\n",
       "      <td>LOCATION 27</td>\n",
       "      <td>0.429295</td>\n",
       "      <td>0.945181</td>\n",
       "      <td>0.824968</td>\n",
       "      <td>0.002150</td>\n",
       "      <td>1.699408</td>\n",
       "      <td>Disposals</td>\n",
       "    </tr>\n",
       "    <tr>\n",
       "      <th>3</th>\n",
       "      <td>4</td>\n",
       "      <td>LOCATION 131</td>\n",
       "      <td>0.397139</td>\n",
       "      <td>0.091812</td>\n",
       "      <td>2.877748</td>\n",
       "      <td>0.078972</td>\n",
       "      <td>2.824332</td>\n",
       "      <td>Disposals</td>\n",
       "    </tr>\n",
       "    <tr>\n",
       "      <th>4</th>\n",
       "      <td>5</td>\n",
       "      <td>LOCATION 637</td>\n",
       "      <td>0.388949</td>\n",
       "      <td>0.055774</td>\n",
       "      <td>0.848744</td>\n",
       "      <td>0.078972</td>\n",
       "      <td>1.008706</td>\n",
       "      <td>Disposals</td>\n",
       "    </tr>\n",
       "    <tr>\n",
       "      <th>5</th>\n",
       "      <td>6</td>\n",
       "      <td>LOCATION 101</td>\n",
       "      <td>0.381283</td>\n",
       "      <td>0.300635</td>\n",
       "      <td>1.360217</td>\n",
       "      <td>0.877210</td>\n",
       "      <td>1.462682</td>\n",
       "      <td>Disposals</td>\n",
       "    </tr>\n",
       "    <tr>\n",
       "      <th>6</th>\n",
       "      <td>7</td>\n",
       "      <td>LOCATION 100</td>\n",
       "      <td>0.217768</td>\n",
       "      <td>1.174970</td>\n",
       "      <td>2.265682</td>\n",
       "      <td>0.012868</td>\n",
       "      <td>2.661610</td>\n",
       "      <td>Disposals</td>\n",
       "    </tr>\n",
       "    <tr>\n",
       "      <th>7</th>\n",
       "      <td>8</td>\n",
       "      <td>LOCATION 30</td>\n",
       "      <td>0.210337</td>\n",
       "      <td>0.313043</td>\n",
       "      <td>0.738406</td>\n",
       "      <td>0.077536</td>\n",
       "      <td>0.847791</td>\n",
       "      <td>Disposals</td>\n",
       "    </tr>\n",
       "    <tr>\n",
       "      <th>8</th>\n",
       "      <td>9</td>\n",
       "      <td>LOCATION 124</td>\n",
       "      <td>0.209130</td>\n",
       "      <td>0.270811</td>\n",
       "      <td>1.104320</td>\n",
       "      <td>0.000000</td>\n",
       "      <td>1.431355</td>\n",
       "      <td>Disposals</td>\n",
       "    </tr>\n",
       "    <tr>\n",
       "      <th>9</th>\n",
       "      <td>10</td>\n",
       "      <td>LOCATION 66</td>\n",
       "      <td>0.181764</td>\n",
       "      <td>0.115464</td>\n",
       "      <td>0.686620</td>\n",
       "      <td>0.000000</td>\n",
       "      <td>0.705501</td>\n",
       "      <td>Disposals</td>\n",
       "    </tr>\n",
       "  </tbody>\n",
       "</table>\n",
       "</div>"
      ],
      "text/plain": [
       "   location_order      location  disposals_rating  scan_type_%  ret_date_%  \\\n",
       "0               1  LOCATION 141          0.579829     1.182614    5.478864   \n",
       "1               2  LOCATION 120          0.436837     0.176244    1.346203   \n",
       "2               3   LOCATION 27          0.429295     0.945181    0.824968   \n",
       "3               4  LOCATION 131          0.397139     0.091812    2.877748   \n",
       "4               5  LOCATION 637          0.388949     0.055774    0.848744   \n",
       "5               6  LOCATION 101          0.381283     0.300635    1.360217   \n",
       "6               7  LOCATION 100          0.217768     1.174970    2.265682   \n",
       "7               8   LOCATION 30          0.210337     0.313043    0.738406   \n",
       "8               9  LOCATION 124          0.209130     0.270811    1.104320   \n",
       "9              10   LOCATION 66          0.181764     0.115464    0.686620   \n",
       "\n",
       "   disp_doc_%  err_cost_disposals_%       role  \n",
       "0    0.000000              7.267088  Disposals  \n",
       "1    0.000000              1.354732  Disposals  \n",
       "2    0.002150              1.699408  Disposals  \n",
       "3    0.078972              2.824332  Disposals  \n",
       "4    0.078972              1.008706  Disposals  \n",
       "5    0.877210              1.462682  Disposals  \n",
       "6    0.012868              2.661610  Disposals  \n",
       "7    0.077536              0.847791  Disposals  \n",
       "8    0.000000              1.431355  Disposals  \n",
       "9    0.000000              0.705501  Disposals  "
      ]
     },
     "execution_count": 43,
     "metadata": {},
     "output_type": "execute_result"
    }
   ],
   "source": [
    "#Import data in Top 10 Disposals\n",
    "data_key = 'table.location_disposals_rating_top_10.0401.csv'\n",
    "data_path = 's3://{}/{}'.format(bucket, data_key)\n",
    "\n",
    "# read csv file\n",
    "Disposal_role = pd.read_csv(data_path, low_memory = False)\n",
    "Disposal_role.columns.values[0] = \"location_order\"\n",
    "count = 1\n",
    "for i in range(len(Disposal_role)):\n",
    "  Disposal_role['location_order'][i] = count\n",
    "  count = count + 1\n",
    "\n",
    "Disposal_role"
   ]
  },
  {
   "cell_type": "code",
   "execution_count": 44,
   "metadata": {},
   "outputs": [
    {
     "data": {
      "text/plain": [
       "Text(0.5, 1.0, 'Location - Top 10 Business Unit vs Disposals Rating')"
      ]
     },
     "execution_count": 44,
     "metadata": {},
     "output_type": "execute_result"
    },
    {
     "data": {
      "image/png": "[encoded data removed]",
      "text/plain": [
       "<Figure size 1080x720 with 1 Axes>"
      ]
     },
     "metadata": {
      "needs_background": "light"
     },
     "output_type": "display_data"
    }
   ],
   "source": [
    "plt.figure(figsize=(15, 10))\n",
    "sns.barplot(x=\"location\", y=\"disposals_rating\", data= Disposal_role , palette=\"rocket\")\n",
    "plt.title(\"Location - Top 10 Business Unit vs Disposals Rating\")"
   ]
  },
  {
   "cell_type": "code",
   "execution_count": 45,
   "metadata": {},
   "outputs": [
    {
     "data": {
      "text/plain": [
       "Text(0.5, 1.0, 'Location - Top 10 Business Unit vs Scan Type Rating')"
      ]
     },
     "execution_count": 45,
     "metadata": {},
     "output_type": "execute_result"
    },
    {
     "data": {
      "image/png": "[encoded data removed]",
      "text/plain": [
       "<Figure size 1080x720 with 1 Axes>"
      ]
     },
     "metadata": {
      "needs_background": "light"
     },
     "output_type": "display_data"
    }
   ],
   "source": [
    "plt.figure(figsize=(15, 10))\n",
    "sns.barplot(x=\"location\", y=\"scan_type_%\", data= Disposal_role , palette=\"mako\")\n",
    "plt.title(\"Location - Top 10 Business Unit vs Scan Type Rating\")"
   ]
  },
  {
   "cell_type": "code",
   "execution_count": 46,
   "metadata": {},
   "outputs": [
    {
     "data": {
      "text/plain": [
       "Text(0.5, 1.0, 'Location - Top 10 Business Unit vs Retriment Date Rating')"
      ]
     },
     "execution_count": 46,
     "metadata": {},
     "output_type": "execute_result"
    },
    {
     "data": {
      "image/png": "[encoded data removed]",
      "text/plain": [
       "<Figure size 1080x720 with 1 Axes>"
      ]
     },
     "metadata": {
      "needs_background": "light"
     },
     "output_type": "display_data"
    }
   ],
   "source": [
    "plt.figure(figsize=(15, 10))\n",
    "sns.barplot(x=\"location\", y=\"ret_date_%\", data= Disposal_role , palette=\"mako\")\n",
    "plt.title(\"Location - Top 10 Business Unit vs Retriment Date Rating\")"
   ]
  },
  {
   "cell_type": "code",
   "execution_count": 47,
   "metadata": {},
   "outputs": [
    {
     "data": {
      "text/plain": [
       "Text(0.5, 1.0, 'Location - Top 10 Business Unit vs Disposal Doc Rating')"
      ]
     },
     "execution_count": 47,
     "metadata": {},
     "output_type": "execute_result"
    },
    {
     "data": {
      "image/png": "[encoded data removed]",
      "text/plain": [
       "<Figure size 1080x720 with 1 Axes>"
      ]
     },
     "metadata": {
      "needs_background": "light"
     },
     "output_type": "display_data"
    }
   ],
   "source": [
    "plt.figure(figsize=(15, 10))\n",
    "sns.barplot(x=\"location\", y=\"disp_doc_%\", data= Disposal_role , palette=\"mako\")\n",
    "plt.title(\"Location - Top 10 Business Unit vs Disposal Doc Rating\")"
   ]
  },
  {
   "cell_type": "code",
   "execution_count": 48,
   "metadata": {},
   "outputs": [
    {
     "data": {
      "text/plain": [
       "Text(0.5, 1.0, 'Location - Top 10 Business Unit vs Error Cost Rating')"
      ]
     },
     "execution_count": 48,
     "metadata": {},
     "output_type": "execute_result"
    },
    {
     "data": {
      "image/png": "[encoded data removed]",
      "text/plain": [
       "<Figure size 1080x720 with 1 Axes>"
      ]
     },
     "metadata": {
      "needs_background": "light"
     },
     "output_type": "display_data"
    }
   ],
   "source": [
    "plt.figure(figsize=(15, 10))\n",
    "sns.barplot(x=\"location\", y=\"err_cost_disposals_%\", data= Disposal_role , palette=\"mako\")\n",
    "plt.title(\"Location - Top 10 Business Unit vs Error Cost Rating\")"
   ]
  },
  {
   "cell_type": "markdown",
   "metadata": {},
   "source": [
    "## Top 10 Business Unit_Location Role"
   ]
  },
  {
   "cell_type": "code",
   "execution_count": 52,
   "metadata": {},
   "outputs": [
    {
     "data": {
      "text/html": [
       "<div>\n",
       "<style scoped>\n",
       "    .dataframe tbody tr th:only-of-type {\n",
       "        vertical-align: middle;\n",
       "    }\n",
       "\n",
       "    .dataframe tbody tr th {\n",
       "        vertical-align: top;\n",
       "    }\n",
       "\n",
       "    .dataframe thead th {\n",
       "        text-align: right;\n",
       "    }\n",
       "</style>\n",
       "<table border=\"1\" class=\"dataframe\">\n",
       "  <thead>\n",
       "    <tr style=\"text-align: right;\">\n",
       "      <th></th>\n",
       "      <th>location_order</th>\n",
       "      <th>location</th>\n",
       "      <th>location_rating</th>\n",
       "      <th>val_ds584_flag_%</th>\n",
       "      <th>err_cost_locations_%</th>\n",
       "      <th>role</th>\n",
       "    </tr>\n",
       "  </thead>\n",
       "  <tbody>\n",
       "    <tr>\n",
       "      <th>0</th>\n",
       "      <td>1</td>\n",
       "      <td>LOCATION 66</td>\n",
       "      <td>0.236908</td>\n",
       "      <td>4.135721</td>\n",
       "      <td>4.161332</td>\n",
       "      <td>Locations</td>\n",
       "    </tr>\n",
       "    <tr>\n",
       "      <th>1</th>\n",
       "      <td>2</td>\n",
       "      <td>LOCATION 82</td>\n",
       "      <td>0.195850</td>\n",
       "      <td>3.690350</td>\n",
       "      <td>3.684310</td>\n",
       "      <td>Locations</td>\n",
       "    </tr>\n",
       "    <tr>\n",
       "      <th>2</th>\n",
       "      <td>3</td>\n",
       "      <td>LOCATION 105</td>\n",
       "      <td>0.195007</td>\n",
       "      <td>4.333675</td>\n",
       "      <td>4.539379</td>\n",
       "      <td>Locations</td>\n",
       "    </tr>\n",
       "    <tr>\n",
       "      <th>3</th>\n",
       "      <td>4</td>\n",
       "      <td>LOCATION 194</td>\n",
       "      <td>0.166038</td>\n",
       "      <td>4.658064</td>\n",
       "      <td>4.626810</td>\n",
       "      <td>Locations</td>\n",
       "    </tr>\n",
       "    <tr>\n",
       "      <th>4</th>\n",
       "      <td>5</td>\n",
       "      <td>LOCATION 71</td>\n",
       "      <td>0.138854</td>\n",
       "      <td>0.354742</td>\n",
       "      <td>0.345190</td>\n",
       "      <td>Locations</td>\n",
       "    </tr>\n",
       "    <tr>\n",
       "      <th>5</th>\n",
       "      <td>6</td>\n",
       "      <td>LOCATION 101</td>\n",
       "      <td>0.134616</td>\n",
       "      <td>8.291312</td>\n",
       "      <td>8.843908</td>\n",
       "      <td>Locations</td>\n",
       "    </tr>\n",
       "    <tr>\n",
       "      <th>6</th>\n",
       "      <td>7</td>\n",
       "      <td>LOCATION 39</td>\n",
       "      <td>0.122111</td>\n",
       "      <td>1.798806</td>\n",
       "      <td>1.441300</td>\n",
       "      <td>Locations</td>\n",
       "    </tr>\n",
       "    <tr>\n",
       "      <th>7</th>\n",
       "      <td>8</td>\n",
       "      <td>LOCATION 55</td>\n",
       "      <td>0.112324</td>\n",
       "      <td>1.441474</td>\n",
       "      <td>1.221211</td>\n",
       "      <td>Locations</td>\n",
       "    </tr>\n",
       "    <tr>\n",
       "      <th>8</th>\n",
       "      <td>9</td>\n",
       "      <td>LOCATION 23</td>\n",
       "      <td>0.109900</td>\n",
       "      <td>1.894628</td>\n",
       "      <td>1.908493</td>\n",
       "      <td>Locations</td>\n",
       "    </tr>\n",
       "    <tr>\n",
       "      <th>9</th>\n",
       "      <td>10</td>\n",
       "      <td>LOCATION 166</td>\n",
       "      <td>0.107270</td>\n",
       "      <td>1.490852</td>\n",
       "      <td>1.411954</td>\n",
       "      <td>Locations</td>\n",
       "    </tr>\n",
       "  </tbody>\n",
       "</table>\n",
       "</div>"
      ],
      "text/plain": [
       "   location_order      location  location_rating  val_ds584_flag_%  \\\n",
       "0               1   LOCATION 66         0.236908          4.135721   \n",
       "1               2   LOCATION 82         0.195850          3.690350   \n",
       "2               3  LOCATION 105         0.195007          4.333675   \n",
       "3               4  LOCATION 194         0.166038          4.658064   \n",
       "4               5   LOCATION 71         0.138854          0.354742   \n",
       "5               6  LOCATION 101         0.134616          8.291312   \n",
       "6               7   LOCATION 39         0.122111          1.798806   \n",
       "7               8   LOCATION 55         0.112324          1.441474   \n",
       "8               9   LOCATION 23         0.109900          1.894628   \n",
       "9              10  LOCATION 166         0.107270          1.490852   \n",
       "\n",
       "   err_cost_locations_%       role  \n",
       "0              4.161332  Locations  \n",
       "1              3.684310  Locations  \n",
       "2              4.539379  Locations  \n",
       "3              4.626810  Locations  \n",
       "4              0.345190  Locations  \n",
       "5              8.843908  Locations  \n",
       "6              1.441300  Locations  \n",
       "7              1.221211  Locations  \n",
       "8              1.908493  Locations  \n",
       "9              1.411954  Locations  "
      ]
     },
     "execution_count": 52,
     "metadata": {},
     "output_type": "execute_result"
    }
   ],
   "source": [
    "data_key = 'table.location_location_rating_top_10.0401.csv'\n",
    "data_path = 's3://{}/{}'.format(bucket, data_key)\n",
    "\n",
    "# read csv file\n",
    "location_role = pd.read_csv(data_path, low_memory = False)\n",
    "location_role.columns.values[0] = \"location_order\"\n",
    "count = 1\n",
    "for i in range(len(location_role)):\n",
    "  location_role['location_order'][i] = count\n",
    "  count = count + 1\n",
    "\n",
    "location_role"
   ]
  },
  {
   "cell_type": "code",
   "execution_count": 53,
   "metadata": {},
   "outputs": [
    {
     "data": {
      "text/plain": [
       "Text(0.5, 1.0, 'Location - Top 10 Business Unit vs Location Rating')"
      ]
     },
     "execution_count": 53,
     "metadata": {},
     "output_type": "execute_result"
    },
    {
     "data": {
      "image/png": "[encoded data removed]",
      "text/plain": [
       "<Figure size 1080x720 with 1 Axes>"
      ]
     },
     "metadata": {
      "needs_background": "light"
     },
     "output_type": "display_data"
    }
   ],
   "source": [
    "plt.figure(figsize=(15, 10))\n",
    "sns.barplot(x=\"location\", y=\"location_rating\", data= location_role , palette=\"rocket\")\n",
    "plt.title(\"Location - Top 10 Business Unit vs Location Rating\")"
   ]
  },
  {
   "cell_type": "code",
   "execution_count": 54,
   "metadata": {},
   "outputs": [
    {
     "data": {
      "text/plain": [
       "Text(0.5, 1.0, 'Location - Top 10 Business Unit vs VAL_DS584 Rating')"
      ]
     },
     "execution_count": 54,
     "metadata": {},
     "output_type": "execute_result"
    },
    {
     "data": {
      "image/png": "[encoded data removed]",
      "text/plain": [
       "<Figure size 1080x720 with 1 Axes>"
      ]
     },
     "metadata": {
      "needs_background": "light"
     },
     "output_type": "display_data"
    }
   ],
   "source": [
    "plt.figure(figsize=(15, 10))\n",
    "sns.barplot(x=\"location\", y=\"val_ds584_flag_%\", data= location_role , palette=\"mako\")\n",
    "plt.title(\"Location - Top 10 Business Unit vs VAL_DS584 Rating\")"
   ]
  },
  {
   "cell_type": "code",
   "execution_count": 55,
   "metadata": {},
   "outputs": [
    {
     "data": {
      "text/plain": [
       "Text(0.5, 1.0, 'Location - Top 10 Business Unit vs Error Cost')"
      ]
     },
     "execution_count": 55,
     "metadata": {},
     "output_type": "execute_result"
    },
    {
     "data": {
      "image/png": "[encoded data removed]",
      "text/plain": [
       "<Figure size 1080x720 with 1 Axes>"
      ]
     },
     "metadata": {
      "needs_background": "light"
     },
     "output_type": "display_data"
    }
   ],
   "source": [
    "plt.figure(figsize=(15, 10))\n",
    "sns.barplot(x=\"location\", y=\"err_cost_locations_%\", data= location_role , palette=\"mako\")\n",
    "plt.title(\"Location - Top 10 Business Unit vs Error Cost\")"
   ]
  },
  {
   "cell_type": "markdown",
   "metadata": {},
   "source": [
    "## Top 10 Business Unit_Receiving Role"
   ]
  },
  {
   "cell_type": "code",
   "execution_count": 58,
   "metadata": {},
   "outputs": [
    {
     "data": {
      "text/html": [
       "<div>\n",
       "<style scoped>\n",
       "    .dataframe tbody tr th:only-of-type {\n",
       "        vertical-align: middle;\n",
       "    }\n",
       "\n",
       "    .dataframe tbody tr th {\n",
       "        vertical-align: top;\n",
       "    }\n",
       "\n",
       "    .dataframe thead th {\n",
       "        text-align: right;\n",
       "    }\n",
       "</style>\n",
       "<table border=\"1\" class=\"dataframe\">\n",
       "  <thead>\n",
       "    <tr style=\"text-align: right;\">\n",
       "      <th></th>\n",
       "      <th>location_order</th>\n",
       "      <th>location</th>\n",
       "      <th>receiving_rating</th>\n",
       "      <th>misclf_fap_%</th>\n",
       "      <th>cre_mthod_%</th>\n",
       "      <th>err_cost_receiving_%</th>\n",
       "      <th>role</th>\n",
       "    </tr>\n",
       "  </thead>\n",
       "  <tbody>\n",
       "    <tr>\n",
       "      <th>0</th>\n",
       "      <td>1</td>\n",
       "      <td>LOCATION 107</td>\n",
       "      <td>0.274651</td>\n",
       "      <td>0.000000</td>\n",
       "      <td>2.000000</td>\n",
       "      <td>2.000000</td>\n",
       "      <td>Receiving</td>\n",
       "    </tr>\n",
       "    <tr>\n",
       "      <th>1</th>\n",
       "      <td>2</td>\n",
       "      <td>LOCATION 209</td>\n",
       "      <td>0.042244</td>\n",
       "      <td>1.009714</td>\n",
       "      <td>0.000000</td>\n",
       "      <td>0.866786</td>\n",
       "      <td>Receiving</td>\n",
       "    </tr>\n",
       "    <tr>\n",
       "      <th>2</th>\n",
       "      <td>3</td>\n",
       "      <td>LOCATION 162</td>\n",
       "      <td>0.039612</td>\n",
       "      <td>0.335580</td>\n",
       "      <td>0.049865</td>\n",
       "      <td>0.503426</td>\n",
       "      <td>Receiving</td>\n",
       "    </tr>\n",
       "    <tr>\n",
       "      <th>3</th>\n",
       "      <td>4</td>\n",
       "      <td>LOCATION 101</td>\n",
       "      <td>0.033686</td>\n",
       "      <td>0.020737</td>\n",
       "      <td>0.362174</td>\n",
       "      <td>0.131673</td>\n",
       "      <td>Receiving</td>\n",
       "    </tr>\n",
       "    <tr>\n",
       "      <th>4</th>\n",
       "      <td>5</td>\n",
       "      <td>LOCATION 628</td>\n",
       "      <td>0.033686</td>\n",
       "      <td>0.020737</td>\n",
       "      <td>0.362174</td>\n",
       "      <td>0.131673</td>\n",
       "      <td>Receiving</td>\n",
       "    </tr>\n",
       "    <tr>\n",
       "      <th>5</th>\n",
       "      <td>6</td>\n",
       "      <td>LOCATION 100</td>\n",
       "      <td>0.031499</td>\n",
       "      <td>0.035968</td>\n",
       "      <td>1.764352</td>\n",
       "      <td>1.359903</td>\n",
       "      <td>Receiving</td>\n",
       "    </tr>\n",
       "    <tr>\n",
       "      <th>6</th>\n",
       "      <td>7</td>\n",
       "      <td>LOCATION 113</td>\n",
       "      <td>0.030872</td>\n",
       "      <td>0.267626</td>\n",
       "      <td>0.838889</td>\n",
       "      <td>0.952169</td>\n",
       "      <td>Receiving</td>\n",
       "    </tr>\n",
       "    <tr>\n",
       "      <th>7</th>\n",
       "      <td>8</td>\n",
       "      <td>LOCATION 2</td>\n",
       "      <td>0.028355</td>\n",
       "      <td>0.727163</td>\n",
       "      <td>0.405941</td>\n",
       "      <td>1.501604</td>\n",
       "      <td>Receiving</td>\n",
       "    </tr>\n",
       "    <tr>\n",
       "      <th>8</th>\n",
       "      <td>9</td>\n",
       "      <td>LOCATION 137</td>\n",
       "      <td>0.027810</td>\n",
       "      <td>0.710467</td>\n",
       "      <td>0.000000</td>\n",
       "      <td>0.746622</td>\n",
       "      <td>Receiving</td>\n",
       "    </tr>\n",
       "    <tr>\n",
       "      <th>9</th>\n",
       "      <td>10</td>\n",
       "      <td>LOCATION 11</td>\n",
       "      <td>0.025660</td>\n",
       "      <td>1.073986</td>\n",
       "      <td>0.079137</td>\n",
       "      <td>1.011622</td>\n",
       "      <td>Receiving</td>\n",
       "    </tr>\n",
       "  </tbody>\n",
       "</table>\n",
       "</div>"
      ],
      "text/plain": [
       "   location_order      location  receiving_rating  misclf_fap_%  cre_mthod_%  \\\n",
       "0               1  LOCATION 107          0.274651      0.000000     2.000000   \n",
       "1               2  LOCATION 209          0.042244      1.009714     0.000000   \n",
       "2               3  LOCATION 162          0.039612      0.335580     0.049865   \n",
       "3               4  LOCATION 101          0.033686      0.020737     0.362174   \n",
       "4               5  LOCATION 628          0.033686      0.020737     0.362174   \n",
       "5               6  LOCATION 100          0.031499      0.035968     1.764352   \n",
       "6               7  LOCATION 113          0.030872      0.267626     0.838889   \n",
       "7               8    LOCATION 2          0.028355      0.727163     0.405941   \n",
       "8               9  LOCATION 137          0.027810      0.710467     0.000000   \n",
       "9              10   LOCATION 11          0.025660      1.073986     0.079137   \n",
       "\n",
       "   err_cost_receiving_%       role  \n",
       "0              2.000000  Receiving  \n",
       "1              0.866786  Receiving  \n",
       "2              0.503426  Receiving  \n",
       "3              0.131673  Receiving  \n",
       "4              0.131673  Receiving  \n",
       "5              1.359903  Receiving  \n",
       "6              0.952169  Receiving  \n",
       "7              1.501604  Receiving  \n",
       "8              0.746622  Receiving  \n",
       "9              1.011622  Receiving  "
      ]
     },
     "execution_count": 58,
     "metadata": {},
     "output_type": "execute_result"
    }
   ],
   "source": [
    "data_key = 'table.location_receiving_rating_top_10.0401.csv'\n",
    "data_path = 's3://{}/{}'.format(bucket, data_key)\n",
    "\n",
    "# read csv file\n",
    "receiving_role = pd.read_csv(data_path, low_memory = False)\n",
    "receiving_role.columns.values[0] = \"location_order\"\n",
    "count = 1\n",
    "for i in range(len(receiving_role)):\n",
    "  receiving_role['location_order'][i] = count\n",
    "  count = count + 1\n",
    "\n",
    "receiving_role"
   ]
  },
  {
   "cell_type": "code",
   "execution_count": 59,
   "metadata": {},
   "outputs": [
    {
     "data": {
      "text/plain": [
       "Text(0.5, 1.0, 'Location - Top 10 Business Unit vs Receiving Rating')"
      ]
     },
     "execution_count": 59,
     "metadata": {},
     "output_type": "execute_result"
    },
    {
     "data": {
      "image/png": "[encoded data removed]",
      "text/plain": [
       "<Figure size 1080x720 with 1 Axes>"
      ]
     },
     "metadata": {
      "needs_background": "light"
     },
     "output_type": "display_data"
    }
   ],
   "source": [
    "plt.figure(figsize=(15, 10))\n",
    "sns.barplot(x=\"location\", y=\"receiving_rating\", data= receiving_role , palette=\"mako\")\n",
    "plt.title(\"Location - Top 10 Business Unit vs Receiving Rating\")"
   ]
  },
  {
   "cell_type": "code",
   "execution_count": 60,
   "metadata": {},
   "outputs": [
    {
     "data": {
      "text/plain": [
       "Text(0.5, 1.0, 'Location - Top 10 Business Unit vs Missclassification Rating')"
      ]
     },
     "execution_count": 60,
     "metadata": {},
     "output_type": "execute_result"
    },
    {
     "data": {
      "image/png": "[encoded data removed]",
      "text/plain": [
       "<Figure size 1080x720 with 1 Axes>"
      ]
     },
     "metadata": {
      "needs_background": "light"
     },
     "output_type": "display_data"
    }
   ],
   "source": [
    "plt.figure(figsize=(15, 10))\n",
    "sns.barplot(x=\"location\", y=\"misclf_fap_%\", data= receiving_role , palette=\"mako\")\n",
    "plt.title(\"Location - Top 10 Business Unit vs Missclassification Rating\")"
   ]
  },
  {
   "cell_type": "code",
   "execution_count": 61,
   "metadata": {},
   "outputs": [
    {
     "data": {
      "text/plain": [
       "Text(0.5, 1.0, 'Location - Top 10 Business Unit vs Creation Method Rating')"
      ]
     },
     "execution_count": 61,
     "metadata": {},
     "output_type": "execute_result"
    },
    {
     "data": {
      "image/png": "[encoded data removed]",
      "text/plain": [
       "<Figure size 1080x720 with 1 Axes>"
      ]
     },
     "metadata": {
      "needs_background": "light"
     },
     "output_type": "display_data"
    }
   ],
   "source": [
    "plt.figure(figsize=(15, 10))\n",
    "sns.barplot(x=\"location\", y=\"cre_mthod_%\", data= receiving_role , palette=\"mako\")\n",
    "plt.title(\"Location - Top 10 Business Unit vs Creation Method Rating\")"
   ]
  },
  {
   "cell_type": "code",
   "execution_count": 62,
   "metadata": {},
   "outputs": [
    {
     "data": {
      "text/plain": [
       "Text(0.5, 1.0, 'Location - Top 10 Business Unit vs Error Cost Rating')"
      ]
     },
     "execution_count": 62,
     "metadata": {},
     "output_type": "execute_result"
    },
    {
     "data": {
      "image/png": "[encoded data removed]",
      "text/plain": [
       "<Figure size 1080x720 with 1 Axes>"
      ]
     },
     "metadata": {
      "needs_background": "light"
     },
     "output_type": "display_data"
    }
   ],
   "source": [
    "plt.figure(figsize=(15, 10))\n",
    "sns.barplot(x=\"location\", y=\"err_cost_receiving_%\", data= receiving_role , palette=\"mako\")\n",
    "plt.title(\"Location - Top 10 Business Unit vs Error Cost Rating\")"
   ]
  },
  {
   "cell_type": "code",
   "execution_count": null,
   "metadata": {},
   "outputs": [],
   "source": []
  },
  {
   "cell_type": "code",
   "execution_count": null,
   "metadata": {},
   "outputs": [],
   "source": []
  },
  {
   "cell_type": "code",
   "execution_count": null,
   "metadata": {},
   "outputs": [],
   "source": []
  },
  {
   "cell_type": "code",
   "execution_count": null,
   "metadata": {},
   "outputs": [],
   "source": []
  },
  {
   "cell_type": "code",
   "execution_count": null,
   "metadata": {},
   "outputs": [],
   "source": []
  },
  {
   "cell_type": "code",
   "execution_count": null,
   "metadata": {},
   "outputs": [],
   "source": []
  },
  {
   "cell_type": "code",
   "execution_count": null,
   "metadata": {},
   "outputs": [],
   "source": []
  },
  {
   "cell_type": "code",
   "execution_count": null,
   "metadata": {},
   "outputs": [],
   "source": []
  },
  {
   "cell_type": "code",
   "execution_count": null,
   "metadata": {},
   "outputs": [],
   "source": []
  },
  {
   "cell_type": "code",
   "execution_count": null,
   "metadata": {},
   "outputs": [],
   "source": []
  }
 ],
 "metadata": {
  "instance_type": "ml.t3.medium",
  "kernelspec": {
   "display_name": "Python 3 (Data Science)",
   "language": "python",
   "name": "python3__SAGEMAKER_INTERNAL__arn:aws:sagemaker:us-east-1:081325390199:image/datascience-1.0"
  },
  "language_info": {
   "codemirror_mode": {
    "name": "ipython",
    "version": 3
   },
   "file_extension": ".py",
   "mimetype": "text/x-python",
   "name": "python",
   "nbconvert_exporter": "python",
   "pygments_lexer": "ipython3",
   "version": "3.7.10"
  }
 },
 "nbformat": 4,
 "nbformat_minor": 4
}
